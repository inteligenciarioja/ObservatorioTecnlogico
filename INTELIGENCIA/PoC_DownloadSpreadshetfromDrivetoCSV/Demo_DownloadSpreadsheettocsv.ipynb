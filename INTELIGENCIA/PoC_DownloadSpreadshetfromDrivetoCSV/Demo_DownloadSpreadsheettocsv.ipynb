{
 "cells": [
  {
   "cell_type": "code",
   "execution_count": 64,
   "metadata": {},
   "outputs": [
    {
     "name": "stdout",
     "output_type": "stream",
     "text": [
      "Files:\n",
      "Noticias - Vigilancia Tecnológica - Servicio de Internacionalización e Innovación (respuestas) (1RZV-dMW4RRIE8HjvzAHgtK2kmr7wCoYAQMLroHxvjKc)\n",
      "Noticias - Vigilancia Tecnológica - Servicio de Internacionalización e Innovación (1H1g_4CnKnW5X_UKtBDRzXo9C2igpjLmNz3Hg13VrfRo)\n",
      "20200530_Proyecto_AnalisisRRSS.pdf (13NrWIJzjkQGM0EiT_ncmYrQhl_-_y5hm)\n",
      "Getting started (0B8fzYFAsjJq0c3RhcnRlcl9maWxl)\n",
      "Successfully downloaded Respuestas de formulario 1.csv\n"
     ]
    }
   ],
   "source": [
    "from __future__ import print_function\n",
    "import pickle\n",
    "import os.path\n",
    "from googleapiclient.discovery import build\n",
    "from google_auth_oauthlib.flow import InstalledAppFlow\n",
    "from google.auth.transport.requests import Request\n",
    "from googleapiclient.http import MediaIoBaseDownload\n",
    "import io\n",
    "import csv\n",
    "\n",
    "# If modifying these scopes, delete the file token.pickle.\n",
    "SCOPES = ['https://www.googleapis.com/auth/drive']\n",
    "\n",
    "def main():\n",
    "    \"\"\"Shows basic usage of the Drive v3 API.\n",
    "    Prints the names and ids of the first 10 files the user has access to.\n",
    "    \"\"\"\n",
    "    creds = None\n",
    "    # The file token.pickle stores the user's access and refresh tokens, and is\n",
    "    # created automatically when the authorization flow completes for the first\n",
    "    # time.\n",
    "    if os.path.exists('token.pickle'):\n",
    "        with open('token.pickle', 'rb') as token:\n",
    "            creds = pickle.load(token)\n",
    "    # If there are no (valid) credentials available, let the user log in.\n",
    "    if not creds or not creds.valid:\n",
    "        if creds and creds.expired and creds.refresh_token:\n",
    "            creds.refresh(Request())\n",
    "        else:\n",
    "            flow = InstalledAppFlow.from_client_secrets_file(\n",
    "                'credentials.json', SCOPES)\n",
    "            creds = flow.run_local_server(port=50001)\n",
    "        # Save the credentials for the next run\n",
    "        with open('token.pickle', 'wb') as token:\n",
    "            pickle.dump(creds, token)\n",
    "\n",
    "    service = build('drive', 'v3', credentials=creds)\n",
    "    sheets = build('sheets', 'v4', credentials=creds)\n",
    "\n",
    "    # Call the Drive v3 API\n",
    "    results = service.files().list(\n",
    "        pageSize=10, fields=\"nextPageToken, files(id, name)\").execute()\n",
    "    items = results.get('files', [])\n",
    "    \n",
    "    if not items:\n",
    "        print('No files found.')\n",
    "    else:\n",
    "        print('Files:')\n",
    "        for item in items:\n",
    "            print(u'{0} ({1})'.format(item['name'], item['id']))\n",
    "    \n",
    "    file_id = '1RZV-dMW4RRIE8HjvzAHgtK2kmr7wCoYAQMLroHxvjKc'\n",
    "    #request = service.files().export_media(fileId=file_id,\n",
    "    #                                         mimeType='application/x-vnd.oasis.opendocument.spreadsheet')\n",
    "    #fh = io.FileIO('salida.csv', 'wb')\n",
    "    #downloader = MediaIoBaseDownload(fh, request)\n",
    "    #done = False\n",
    "    #while done is False:\n",
    "    #    status, done = downloader.next_chunk()\n",
    "    #    print(int(status.progress() * 100))\n",
    "    \n",
    "    download_sheet_to_csv(sheets, file_id, 'Respuestas de formulario 1')\n",
    "\n",
    "if __name__ == '__main__':\n",
    "    main()"
   ]
  },
  {
   "cell_type": "code",
   "execution_count": 59,
   "metadata": {},
   "outputs": [],
   "source": [
    "def download_sheet_to_csv(sheets_instance, spreadsheet_id, sheet_name):\n",
    "    result = sheets_instance.spreadsheets().values().get(spreadsheetId=spreadsheet_id, range=sheet_name).execute()\n",
    "    output_file = f'{sheet_name}.csv'\n",
    "\n",
    "    with open(output_file, 'w') as f:\n",
    "        writer = csv.writer(f)\n",
    "        writer.writerows(result.get('values'))\n",
    "\n",
    "    f.close()\n",
    "\n",
    "    print(f'Successfully downloaded {sheet_name}.csv')"
   ]
  },
  {
   "cell_type": "code",
   "execution_count": null,
   "metadata": {},
   "outputs": [],
   "source": []
  },
  {
   "cell_type": "code",
   "execution_count": 23,
   "metadata": {},
   "outputs": [],
   "source": []
  },
  {
   "cell_type": "code",
   "execution_count": null,
   "metadata": {},
   "outputs": [],
   "source": []
  }
 ],
 "metadata": {
  "kernelspec": {
   "display_name": "Python 3",
   "language": "python",
   "name": "python3"
  },
  "language_info": {
   "codemirror_mode": {
    "name": "ipython",
    "version": 3
   },
   "file_extension": ".py",
   "mimetype": "text/x-python",
   "name": "python",
   "nbconvert_exporter": "python",
   "pygments_lexer": "ipython3",
   "version": "3.7.4"
  }
 },
 "nbformat": 4,
 "nbformat_minor": 2
}
