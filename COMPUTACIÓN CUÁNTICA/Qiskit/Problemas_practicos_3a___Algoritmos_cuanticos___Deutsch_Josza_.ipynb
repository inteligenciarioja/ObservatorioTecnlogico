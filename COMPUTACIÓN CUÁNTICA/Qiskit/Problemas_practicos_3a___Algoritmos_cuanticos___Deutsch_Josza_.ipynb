{
 "cells": [
  {
   "cell_type": "code",
   "execution_count": 13,
   "metadata": {},
   "outputs": [],
   "source": [
    "import matplotlib.pyplot             # For plotting circuits\n",
    "from qiskit import BasicAer, IBMQ    # Simulator and access to the quantum chips\n",
    "from qiskit import QuantumCircuit, ClassicalRegister, QuantumRegister    # For creating programs\n",
    "from qiskit import execute    # For running the programs\n",
    "from qiskit.providers.ibmq import least_busy\n",
    "from qiskit import *\n",
    "from qiskit.visualization import plot_histogram "
   ]
  },
  {
   "cell_type": "markdown",
   "metadata": {},
   "source": [
    "El problema a resolver es dilucidar si los distintos oráculos propuestos están basados en funciones balanceadas o constantes. Utilizad lo aprendido en la parte teórica para implementar el algoritmo de Deutsch-Josza. Los oráculos son los siguientes: "
   ]
  },
  {
   "cell_type": "code",
   "execution_count": 38,
   "metadata": {},
   "outputs": [],
   "source": [
    "'''Las siguientes funciones defininen dos oráculo. El primero implementa una función de 1 bit y el segundo y\n",
    "el tercero una de 3 bits.\n",
    "Inputs: \n",
    "quantum_register - registro cuántico sobre el que implementar el oraculo. El qubit auxiliar \n",
    "                   siempre debe ir en última posición. '''\n",
    "\n",
    "\n",
    "''' Oráculo sobre funciones de 1 bit'''\n",
    "def oracle1(quantum_register):  \n",
    "    n = 3\n",
    "    O1 = QuantumCircuit(quantum_register)\n",
    "    O1.cx(quantum_register[0], quantum_register[n])\n",
    "    return O1\n",
    "\n",
    "''' Oráculos sobre funciones de 3 bits'''\n",
    "def oracle2(quantum_register):\n",
    "## |x>|y> -> |x>|y+x0+x_1x_2>\n",
    "    n = 3\n",
    "    O2 = QuantumCircuit(quantum_register)\n",
    "    O2.cx(quantum_register[0], quantum_register[n])\n",
    "    O2.ccx(quantum_register[1], quantum_register[2], quantum_register[n])\n",
    "    return O2\n",
    "    \n",
    "\n",
    "def oracle3(qr):\n",
    "## |x>|y> -> |x>|y+x0x1+x0x2+x1x2>\n",
    "    O3 = QuantumCircuit(qr)\n",
    "    O3.ccx(qr[0], qr[1], qr[n])\n",
    "    O3.ccx(qr[0], qr[2], qr[n])\n",
    "    O3.ccx(qr[1], qr[2], qr[n])\n",
    "    return O3"
   ]
  },
  {
   "cell_type": "markdown",
   "metadata": {},
   "source": [
    "Pasos: \n",
    "- Crear el circuito necesario para implementar el oráculo.\n",
    "- Sumar el oráculo a vuestro circuito.\n",
    "- Aplicar el resto del algoritmo.\n",
    "- Utilizar el qasm simulator para medir el circuito en la base $Z$.\n",
    "- Implementar el algoritmo en un chip cuántico."
   ]
  },
  {
   "cell_type": "code",
   "execution_count": 43,
   "metadata": {
    "scrolled": false
   },
   "outputs": [
    {
     "name": "stderr",
     "output_type": "stream",
     "text": [
      "/opt/anaconda3/lib/python3.7/site-packages/qiskit/providers/ibmq/credentials/configrc.py:130: UserWarning: Credentials already present. Set overwrite=True to overwrite.\n",
      "  warnings.warn('Credentials already present. '\n",
      "/opt/anaconda3/lib/python3.7/site-packages/qiskit/providers/ibmq/ibmqfactory.py:181: UserWarning: Credentials are already in use. The existing account in the session will be replaced.\n",
      "  warnings.warn('Credentials are already in use. The existing '\n"
     ]
    },
    {
     "name": "stdout",
     "output_type": "stream",
     "text": [
      "Least busy backend:  ibmqx2\n"
     ]
    },
    {
     "data": {
      "image/png": "[encoded data removed]",
      "text/plain": [
       "<Figure size 504x360 with 1 Axes>"
      ]
     },
     "execution_count": 43,
     "metadata": {},
     "output_type": "execute_result"
    }
   ],
   "source": [
    "# PASOS DEL ALGORITMO\n",
    "\n",
    "\n",
    "\n",
    "from qiskit import *\n",
    "IBMQ.save_account('2052d42c515d6c72ccd0785184e1086d854b491f8116a234aa4f3ec78816acf81c4f67dd92f83c66fc0620ec27f751ea1bcbb9d6f51d727ea58f2cf3d5af53fa')\n",
    "IBMQ.load_account()\n",
    "provider = IBMQ.get_provider() \n",
    "backend_lb = providers.ibmq.least_busy(provider.backends(simulator=False))\n",
    "print(\"Least busy backend: \", backend_lb)\n",
    "# Solución\n",
    "n = 3\n",
    "quantum_reg = QuantumRegister(n+1)\n",
    "classical_reg = ClassicalRegister(n)\n",
    "dj_circuit = QuantumCircuit(quantum_reg,classical_reg,name='Deutsh-Jozsa')\n",
    "\n",
    "# La ancilla tiene que estar en estado |1>\n",
    "dj_circuit.x(n)\n",
    "\n",
    "# Aplicar hadamar a todos los qbits\n",
    "dj_circuit.h(0)\n",
    "dj_circuit.h(1)\n",
    "dj_circuit.h(2)\n",
    "dj_circuit.h(3)\n",
    "# Aplicar el oráculo\n",
    "dj_circuit = dj_circuit + oracle2(quantum_reg)\n",
    "\n",
    "# Aplicar hadamar a todas menos a la ancilla\n",
    "dj_circuit.h(0)\n",
    "dj_circuit.h(1)\n",
    "dj_circuit.h(2)\n",
    "\n",
    "# Ahora medimos el circuito\n",
    "dj_circuit.measure(0,0)\n",
    "dj_circuit.measure(1,1)\n",
    "dj_circuit.measure(2,2)\n",
    "\n",
    "    \n",
    "circuito = dj_circuit\n",
    "simulator = Aer.get_backend('qasm_simulator')\n",
    "job = execute(circuito,backend_lb,shots = 1000)\n",
    "result = job.result()\n",
    "counts = result.get_counts(circuito)\n",
    "plot_histogram(counts)\n",
    "\n",
    "\n",
    "\n",
    "# Este código está bien, solo puede dar \n",
    "#Todas son balanceadas porque no dan en ninguna el resultado es de 1 al con la combinación |000>\n",
    "\n",
    "# En el caso de oracle2, ningún resultado es 000, así que podemos decir que nunca nunca será contante la función. \n",
    "# Nunca saldrá 000 en el caso de nuestro simulador, pero puede darse el caso que sí en el chip cuántico salga 000, pero con una probabilidad menor. Eso es debido al ruido presente en los chips\n",
    "# Esto es un problema, hay que aplicar un threshold de error admitible para discernir si hemos acertado o no. \n",
    "\n",
    "\n"
   ]
  },
  {
   "cell_type": "markdown",
   "metadata": {},
   "source": [
    "Oráculos de 3 qubits"
   ]
  },
  {
   "cell_type": "code",
   "execution_count": null,
   "metadata": {
    "scrolled": true
   },
   "outputs": [],
   "source": [
    "# Solución"
   ]
  }
 ],
 "metadata": {
  "kernelspec": {
   "display_name": "Python 3",
   "language": "python",
   "name": "python3"
  },
  "language_info": {
   "codemirror_mode": {
    "name": "ipython",
    "version": 3
   },
   "file_extension": ".py",
   "mimetype": "text/x-python",
   "name": "python",
   "nbconvert_exporter": "python",
   "pygments_lexer": "ipython3",
   "version": "3.7.4"
  }
 },
 "nbformat": 4,
 "nbformat_minor": 2
}
