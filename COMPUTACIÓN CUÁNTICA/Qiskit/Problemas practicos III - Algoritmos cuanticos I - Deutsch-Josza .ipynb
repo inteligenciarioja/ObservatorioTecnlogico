{
 "cells": [
  {
   "cell_type": "code",
   "execution_count": 1,
   "metadata": {
    "collapsed": true
   },
   "outputs": [],
   "source": [
    "import matplotlib.pyplot             # For plotting circuits\n",
    "from qiskit import BasicAer, IBMQ    # Simulator and access to the quantum chips\n",
    "from qiskit import QuantumCircuit, ClassicalRegister, QuantumRegister    # For creating programs\n",
    "from qiskit import execute    # For running the programs\n",
    "from qiskit.providers.ibmq import least_busy"
   ]
  },
  {
   "cell_type": "markdown",
   "metadata": {},
   "source": [
    "El problema a resolver es dilucidar si los distintos oráculos propuestos están basados en funciones balanceadas o constantes. Utilizad lo aprendido en la parte teórica para implementar el algoritmo de Deutsch-Josza. Los oráculos son los siguientes: "
   ]
  },
  {
   "cell_type": "code",
   "execution_count": 10,
   "metadata": {
    "collapsed": true
   },
   "outputs": [],
   "source": [
    "'''Las siguientes funciones defininen dos oráculo. El primero implementa una función de 1 bit y el segundo y\n",
    "el tercero una de 3 bits.\n",
    "Inputs: \n",
    "quantum_register - registro cuántico sobre el que implementar el oraculo. El qubit auxiliar \n",
    "                   siempre debe ir en última posición. '''\n",
    "\n",
    "\n",
    "''' Oráculo sobre funciones de 1 bit'''\n",
    "def oracle1(quantum_register):    \n",
    "    O1 = QuantumCircuit(quantum_register)\n",
    "    O1.cx(quantum_register[n], quantum_register[0])\n",
    "    return O1\n",
    "\n",
    "''' Oráculos sobre funciones de 3 bits'''\n",
    "def oracle2(quantum_register):\n",
    "## |x>|y> -> |x>|y+x0+x_1x_2>\n",
    "    O2 = QuantumCircuit(quantum_register)\n",
    "    O2.cx(quantum_register[0], quantum_register[n])\n",
    "    O2.ccx(quantum_register[1], quantum_register[2], quantum_register[n])\n",
    "    return O2\n",
    "    \n",
    "\n",
    "def oracle3(qr):\n",
    "## |x>|y> -> |x>|y+x0x1+x0x2+x1x2>\n",
    "    O3 = QuantumCircuit(qr)\n",
    "    O3.ccx(qr[0], qr[1], qr[n])\n",
    "    O3.ccx(qr[0], qr[2], qr[n])\n",
    "    O3.ccx(qr[1], qr[2], qr[n])\n",
    "    return O3"
   ]
  },
  {
   "cell_type": "markdown",
   "metadata": {},
   "source": [
    "Pasos: \n",
    "- Crear el circuito necesario para implementar el oráculo.\n",
    "- Sumar el oráculo a vuestro circuito.\n",
    "- Aplicar el resto del algoritmo.\n",
    "- Utilizar el qasm simulator para medir el circuito en la base $Z$.\n",
    "- Implementar el algoritmo en un chip cuántico."
   ]
  },
  {
   "cell_type": "code",
   "execution_count": null,
   "metadata": {
    "scrolled": false
   },
   "outputs": [],
   "source": [
    "# Solución"
   ]
  },
  {
   "cell_type": "markdown",
   "metadata": {},
   "source": [
    "Oráculos de 3 qubits"
   ]
  },
  {
   "cell_type": "code",
   "execution_count": null,
   "metadata": {
    "scrolled": true
   },
   "outputs": [],
   "source": [
    "# Solución"
   ]
  }
 ],
 "metadata": {
  "kernelspec": {
   "display_name": "Python 3",
   "language": "python",
   "name": "python3"
  },
  "language_info": {
   "codemirror_mode": {
    "name": "ipython",
    "version": 3
   },
   "file_extension": ".py",
   "mimetype": "text/x-python",
   "name": "python",
   "nbconvert_exporter": "python",
   "pygments_lexer": "ipython3",
   "version": "3.6.2"
  }
 },
 "nbformat": 4,
 "nbformat_minor": 2
}
