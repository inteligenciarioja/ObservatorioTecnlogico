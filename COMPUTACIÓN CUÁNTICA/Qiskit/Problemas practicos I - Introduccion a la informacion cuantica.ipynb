{
 "cells": [
  {
   "cell_type": "markdown",
   "metadata": {},
   "source": [
    "### Problema práctico 1 - El algoritmo BB84\n",
    "\n",
    "El objetivo de este problema práctico es familiarizarse con los conceptos de la información cuántica mediante la simulación del algoritmo de criptografía cuántica BB84. Para ello, solo necesitaremos el package `numpy`."
   ]
  },
  {
   "cell_type": "code",
   "execution_count": null,
   "metadata": {
    "collapsed": true
   },
   "outputs": [],
   "source": [
    "import numpy as np"
   ]
  },
  {
   "cell_type": "markdown",
   "metadata": {},
   "source": [
    "Numpy es una librería especializada en la creación y manipulación de arrays. En este vamos a definir los estados cuantico como arrays. Para este algoritmo solo necesitamos 4 estados, dos en la base $Z$ y dos en la base $X$. Utilizad la libreria numpy para definir los estados en forma de vectores:"
   ]
  },
  {
   "cell_type": "code",
   "execution_count": null,
   "metadata": {
    "collapsed": true
   },
   "outputs": [],
   "source": [
    "zero = \n",
    "one = \n",
    "\n",
    "plus = \n",
    "minus = "
   ]
  },
  {
   "cell_type": "markdown",
   "metadata": {},
   "source": [
    "Una vez teneis los estados como vectores, podeís calcular el valor esperado de un estado en una de las bases utilizando np.dot. Aquí teneís un ejemplo de como calcular $p^z_0(|+\\rangle)$:"
   ]
  },
  {
   "cell_type": "code",
   "execution_count": null,
   "metadata": {
    "collapsed": true,
    "scrolled": true
   },
   "outputs": [],
   "source": [
    "np.dot(plus, zero.transpose())**2"
   ]
  },
  {
   "cell_type": "markdown",
   "metadata": {},
   "source": [
    "Para facilitar las implementación del algoritmo, nuestro primer paso va a ser crear una función de Python que mida la probabilidad de que un estado sea $0$ o $1$ en la base $Z$ o $X$, y que depiendo de ese resultado, nos devuelva un `int` $\\in\\{0,1\\}$. Tened que cuenta que si la probabilidad es 1/2 (es decir, el estado que hemos medido no esta en la base de la medición), tendremos que elegir entre $0$ y $1$ de manera aleatoria. Podemos hacer esto utilizando `np.random.randing(0,2)`.\n",
    "\n",
    "Por tanto, la entrada de la función sera un estado y una base, y la salid un bit clásico:"
   ]
  },
  {
   "cell_type": "code",
   "execution_count": null,
   "metadata": {
    "collapsed": true
   },
   "outputs": [],
   "source": [
    "def measurement(estado, base):\n",
    "    \n",
    "    return bit"
   ]
  },
  {
   "cell_type": "markdown",
   "metadata": {},
   "source": [
    "Ahora vamos a ir definiendo los diferentes actores del algoritmo. Primero vamos a definir el número de estados que van a compartir Alice y Bob:"
   ]
  },
  {
   "cell_type": "code",
   "execution_count": null,
   "metadata": {
    "collapsed": true
   },
   "outputs": [],
   "source": [
    "N = 100"
   ]
  },
  {
   "cell_type": "markdown",
   "metadata": {},
   "source": [
    "Ahora vayamos uno por uno creando a los actores. En primer lugar, tenemos a Alice. Ella tiene que crear $N$ bases y con ellas $N$ estados. Además vamos a pedir que comparta también los bits clásicos que uso para crear los diferentes estados, aunque ni Bob ni Eve tendrán acceso a esta información. Por tanto, será una función de este tipo:"
   ]
  },
  {
   "cell_type": "code",
   "execution_count": null,
   "metadata": {
    "collapsed": true
   },
   "outputs": [],
   "source": [
    "def ALICE(N):\n",
    "                \n",
    "    return bases_alice, estados_alice, bits_alice"
   ]
  },
  {
   "cell_type": "markdown",
   "metadata": {},
   "source": [
    "Bob tiene que recibir los estados de Alice y medirlos con respecto a bases que haya elegido el aleatoriamente. Como salida, vamos a pedir a Bob que nos de las bases que ha elegido así como el resultado de sus mediciones."
   ]
  },
  {
   "cell_type": "code",
   "execution_count": null,
   "metadata": {
    "collapsed": true
   },
   "outputs": [],
   "source": [
    "def BOB(estados_alice):\n",
    "        \n",
    "    return bases_bob, bits_bob"
   ]
  },
  {
   "cell_type": "markdown",
   "metadata": {},
   "source": [
    "Para Eve es algo similar a Bob, pero la salida tienen que ser los estados que haya generado ella misma."
   ]
  },
  {
   "cell_type": "code",
   "execution_count": null,
   "metadata": {
    "collapsed": true
   },
   "outputs": [],
   "source": [
    "def EVE(estados_alice): \n",
    "        \n",
    "    return estados_eve"
   ]
  },
  {
   "cell_type": "markdown",
   "metadata": {},
   "source": [
    "Ahora que tenemos a todos los actores, vamos a implementar el algoritmo. Si hemos declarado bien todas las funciones, el siguiente código debería funcionar:"
   ]
  },
  {
   "cell_type": "code",
   "execution_count": null,
   "metadata": {
    "collapsed": true
   },
   "outputs": [],
   "source": [
    "alice_basis, alice_states = ALICE(N)\n",
    "\n",
    "# Creamos un número aleatorio entre 0 y 1 y si es mayor que 0.5 añadimos a Eve al canal.\n",
    "if np.random.rand() > 0.5:\n",
    "    alice_states = EVE(alice_states)\n",
    "\n",
    "bob_basis, bob_bits = BOB(alice_states)"
   ]
  },
  {
   "cell_type": "markdown",
   "metadata": {},
   "source": [
    "Ahora tenemos que comparar las bases de Alice y Bob y en los casos en los que hay coincidencia comparar el valor de los bits. Sumar el numero de coincidencias de bits y dividirlo entre el numero de coincidencias de base, para dilucidar si Eve estaba en el canal:"
   ]
  },
  {
   "cell_type": "code",
   "execution_count": null,
   "metadata": {
    "collapsed": true
   },
   "outputs": [],
   "source": [
    "# Solución"
   ]
  }
 ],
 "metadata": {
  "kernelspec": {
   "display_name": "Python 3",
   "language": "python",
   "name": "python3"
  },
  "language_info": {
   "codemirror_mode": {
    "name": "ipython",
    "version": 3
   },
   "file_extension": ".py",
   "mimetype": "text/x-python",
   "name": "python",
   "nbconvert_exporter": "python",
   "pygments_lexer": "ipython3",
   "version": "3.6.2"
  }
 },
 "nbformat": 4,
 "nbformat_minor": 2
}
