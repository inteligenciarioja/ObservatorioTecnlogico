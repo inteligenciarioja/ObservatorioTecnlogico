{
 "cells": [
  {
   "cell_type": "markdown",
   "metadata": {},
   "source": [
    "# Programando Algoritmos Cuańticos IV: Temple cuántico (o Quantum Annealing)\n",
    "---\n",
    "Autores: Alejandro Pozas-Kerstjens y Gorka Muñoz-Gil\n",
    "\n",
    "## Introducción\n",
    "En el primer bloque nos hemos centrado en la computación computación cuántica basada en puertas lógica y qubits. Pero esta no es la única manera de sacar ventajas de las propiedades de la cuántica en cuanto a programación se refiere. Existen varios modelos, como por ejemplo los [ordenadores cuánticos de sentido único](https://en.wikipedia.org/wiki/One-way_quantum_computer), los [ordenadores cuánticos topológicos](https://en.wikipedia.org/wiki/Topological_quantum_computer) y los que veremos en detalle en esta sesión: la [computación cuántica adiabática](https://en.wikipedia.org/wiki/Adiabatic_quantum_computation). Este método se basa en el concepto de temple cuántico (o *quantum annealing*) y es capazar de solucionar problemas de optimización codificandolos en la energía de un sistema física para luego buscar cual de sus configuraciones tiene menor energía. En este notebook, vamos a estudiar como funciona el quantum annealing y lo vamos a usar para resolver una versión reducida del *problema del viajante*.\n",
    "\n",
    "\n",
    "\n",
    "## El algoritmo\n",
    "El quantum annealing funciona mediante dos fenómenos de la física cuántica: el *tunneling* y la evolución adiabática. El primero nos permite atravesar, de manera probabilistica, barreras de energía, a través de la cuales vamos a poder encontrar la posición de mínima energía. Por su parte, la evoluación adiabática nos permite pasar de una solución optima de un problema sencillo a la de problema más complejo. La siguiente figura ilustra los dos conceptos:\n",
    "\n",
    "<img src=\"anneal_tunnel.png\" style=\"width:70%;height:350px;\"/>\n",
    "\n",
    "Aunque las dos son importantes en los algoritmos de temple cuántica, nos vamos a centrar en la segunda, ya que puede implementarse de manera directa en el hardware del ordenadore cuántico de D-wave. El quantum annealing está inspirado en el [teorema adiabático](https://es.wikipedia.org/wiki/Teorema_adiab%C3%A1tico), que citando a sus autores, Max Born y Vladimir Fock, nos dice lo siguiente: *Un sistema físico permanece en su estado propio instantáneo si la perturbación que actúa sobre él es lo bastante lenta y hay un salto energético entre su valor propio y el resto del espectro del Hamiltoniano*.\n",
    "\n",
    "Este concepto puede ser usado de manera directa en problemas de optimización, ya que el estado fundamental (el estado de mínima energía) siempre será el estado fundamental de Hamiltoniano del sistema mientras la evolución mediante la cual cambiemos dicho Hamiltoniano sea adiabática. Utilizando este concepto, podemos encontrar la solución óptima a un cierto problema utilizando el siguiente procedimiento:\n",
    "\n",
    "1. Codificar el problema como un Hamiltoniano $H_c$, normalmente muy complejo, de un sistema de $N$ qubits. \n",
    "2. Inicializar dichos qubits como el estado fundamental de un Hamiltonian $H_0$, normalmente sencillo.\n",
    "3. Utilizar la evolución adiabática para llevar el sistema de $H_0$ a $H_c$.\n",
    "\n",
    "Si podemos cambiar de manera suficientement lenta el Hamiltoniano, entonces sabes que el estado final del sistema de qubits es el estado fundamental del Hamiltoniano $H_c$, el cual codifica la solución óptima del problema que queremos solucionar.\n",
    "\n",
    "Definidas las premisas anteriores, una podría pensar que llevar a cabo dicho proceso solo consiste en una serie de cálculos matemáticos. Una vez el Hamiltonian y la configuración inicial del sistema han sido definidos, solo tenemos que escribir el estado del sistema como un ket, calcular la matriz de evolución del Hamiltonian y hacer el producto entre la matríz y el vector obtenidos. Sin embargo, hay que recordar que el estado de un sistema de $n$ qubits necesita, para ser descrito, un vector de $2^n$ entradas. Por su parte, la operador de evolución es una matriz de $2^n\\times 2^n$, por lo que una vez consideremos sistemas de tamaños medios, el cálculo matricial es imposible.\n",
    "\n",
    "La solución al problema no es entonces crear un circuito para calcular la evoluación de un cierto estado cuántico, si no crear un sistema físico y hacerlo evolucionar de manera física según los Hamiltonianos de interés. Esto es exactmente como funciona el máquina cuántica de D-Wave. Al contrario que la computación cuántica digital, basada en puertas lógicas, esta máquina es un modelo analógico. Para encontrar la solución óptima a un cierto problema, inicializan su chip cuántico en una superposición de estados $|+\\rangle^{\\otimes n}=\\frac{1}{\\sqrt{2^n}}\\sum_{x=0}^{2^n-1}|x\\rangle$, el estado fundamental del Hamiltoniano $H_0=\\sum_{i=1}^n X_i$ y que representa la superposición de todas las posibles configuraciones clásicas de qubits, y transicionan de la *manera más adiabática posible* al Hamiltonian $H_c$. \n",
    "\n",
    "Una vez hechos estos pasos, miden el estado de los qubits resultante para obtener el estado de mínima energía del $H_c$, el cual corresponde con la soluación de nuestro problema. Este procediciento permite a D-Wave resolver problemas de optimización usando hasta 2018 qubits, lo cual requiriría, en caso de quere hacer una simulación clásica, de trabajar con matrices con $3\\times 10^{616}$. \n",
    "\n",
    "Ahora que conocemos los fundamentos del temple cuántico, vamos a utilizarlos para resolver el problema del viajante!\n",
    "\n",
    "## El problema del viajante\n",
    "\n",
    "Imaginar un mensajero que cada día reparte correo en una serie de ciudades, todas de una misma area. Por razones medioambientales (minimizar el consumo de gasolina) y para disfrute personal (acabar antes el trabajo para poder ir a casa), el mensajero quiere encontrar la ruta más corta posible para repartir el correro, pasando al por cada ciudad solo una vez y volviendo al punto inicial (donde está la oficina de mensajería). Si tuvieramos una número pequeño de ciudades que visitar, podríamos calcular todas las rutas posibles y ver cual es la más corta. Sin embargo, si el número de ciudades crece, calcular todos los posibles caminos no es práctico. Solo con 15 ciudades, necesitaríamos calcular $15!=15\\times 14\\times\\dots\\times 1= 1.307.674.368.000$ caminos. Por lo tanto, necesitamos encontrar una manera un poco más inteligente de resolver este problema, y como no podría ser de otra manera, vamos a utilizar la física cuántica y el temple cuántico para ello.\n",
    "\n",
    "Para poder utilizar el temple cuántico, debemos encontrar un Hamiltonian $H_c$ que codifique la distancia entre ciudades y cuyos autovectores represente las diferentes rutas, de manera que el estado fundamentel represente la ruta con el menor recorrido.\n",
    "\n",
    "Una opción es utilizar *un qubit por ciudad y orden en la ruta* De esta manera, si queremos visitar $N$ ciudades, necesitaremos $N^2$ qubits. El primer qubit representa la primera ciudad que vamos a visitar, el segundo qubit la primera ciudad siendo visitada segunda, ..., el $N+1$ qubit la segunda ciudad siendo visitada primera, etc... Con esta construcción, elegiremos que la fuerza de la interacción entre dos qubits es proporcional a la distancia entre las ciudades, de tal manera que minimizar la energía del sistema de qubits equivale a encontrar la ruta con la menor distancia. Si un qubit $x_{c, t}$ tiene un valor 1 al ser medido, quiere decir que la ciudad $c$ ha de ser visitada en el orden $t$, mientras que si tiene un valor 0, no debe ser visitada en dicho orden. Como queremos visitar las ciudades una despues de otra, crearemos interacciones entre qubits que representen dos ciudades diferentes a tiempos $t$ y $t+1$. Esto creará una matriz de interacciones de la forma:\n",
    "\n",
    "$$\n",
    "\\begin{array}{}\n",
    "Q^{dist}_{(c_1,t),(c_2,t+1)}&=dist(c_1,c_2)    \\\\\n",
    "Q^{dist}_{(c,t),(c,t')}&=0    \\\\\n",
    "Q^{dist}_{(c_1,t),(c_2,t'\\neq t+1)}&=0\n",
    "\\end{array}\n",
    "$$\n",
    "\n",
    "Aunque parezca que con esto tengamos suficiente, aun nos queda un requisito por cumplir. Y es que existe una configuración trivial que soluciona dicha matrix de interacciones: no visitar ninguna ciudad! Esta solución cumple dos de los requisitos: utilizar el mínimo de gasolina y acabar los más pronto posible, pero no cumple la condición de visitar cada una de las ciudades una vez. Podemos solucionar este pequeño inconveniente añadiendo una serie de términos al Hamiltoniano de manera que se minimicen si tenemos una ruta válida. Existen dos criterios para una ruta válida:\n",
    "\n",
    "- Por cada tiempo $t$, existe solo una ciudad visitada\n",
    "- Cada ciudad $c$ ha de visitarse solo una vez\n",
    "\n",
    "\n",
    "Para imponer dichas condiciones, vamos a añadir a nuestra función de coste (en este caso a nuestro Hamiltoniano) el término $\\lambda_1\\sum_t(1-\\sum_c x_{c,t})^2$, donde $\\lambda$ es la magnitud de la penalización por no cumplir los requisitos (cuanto más grande $\\lambda_1$, mas penalizamos). Este término se minimiza a 0 cuando, para cada tiempo $t$, $\\sum_c x_{c,t}=1$, que significa que solo una ciudad ha sido visitada. Expandiendo y utilizando la propiedad $x_{c,t}^2=x_{c,t}$, encontramos la siguiente matriz de penalización:\n",
    "\n",
    "$$\n",
    "\\begin{array}{}\n",
    "Q^{pen_1}_{(c,t),(c,t)}&=-\\lambda_1    \\\\\n",
    "Q^{pen_1}_{(c,t_1),(c,t_2)}&=\\lambda_1    \\\\\n",
    "Q^{pen_1}_{rest}&=0    \n",
    "\\end{array}\n",
    "$$\n",
    "\n",
    "Para implementar el segundo requisito, vamos a añadir el término $\\lambda_2\\sum_c(1-\\sum_t x_{c,t})^2$, el cual minimizamos a cero cuando, para cada ciudad $c$, solo existe una visita planeado en la ruta. La matríz de penalización en este case es\n",
    "\n",
    "$$\n",
    "\\begin{array}{}\n",
    "Q^{pen_2}_{(c,t),(c,t)}&=-\\lambda_2    \\\\\n",
    "Q^{pen_2}_{(c_1,t),(c_2,t)}&=\\lambda_2    \\\\\n",
    "Q^{pen_2}_{rest}&=0    \n",
    "\\end{array}\n",
    "$$\n",
    "\n",
    "Juntando todas las matrices, la de las interacciones y las dos de la restricciones, tenemos el Hamiltoniano final a minimizar,  $Q=Q^{dist}+Q^{pen_1}+Q^{pen_2}$. La ruta $\\mathbf{x}$ que minimice $\\mathbf{x}^T Q \\mathbf{x}$ será entonces la ruta óptima!\n",
    "\n",
    "## Resolviendo el problema con D-Wave's [Ocean](https://ocean.dwavesys.com/)\n",
    "Ahora que sabemos como transformar nuestro problema a un problema de temple cuántico, vamos a usar un ordenador cuántico real para encontrar la ruta óptima $\\mathbf{x}$. Para ello, vamos a utilizar el software Ocean de D-wave, que nos ofrece un marco de referencia para trabajar tanto con simuladores como con chips cuánticos reales, al igual que Qiskit. Como siempre, empezamos por importar la librerias necesarias:"
   ]
  },
  {
   "cell_type": "code",
   "execution_count": 1,
   "metadata": {},
   "outputs": [],
   "source": [
    "import matplotlib.pyplot as plt                           # For plots\n",
    "import networkx as nx                                     # For graph manipulation\n",
    "import numpy as np                                        # For array operations\n",
    "import seaborn as sns                                     # For nice plots\n",
    "sns.set()\n",
    "\n",
    "from dimod import SimulatedAnnealingSampler               # Annealing simulator\n",
    "from dwave.system.composites import EmbeddingComposite    # For real sampling, mapping to the chip topology\n",
    "from dwave.system.samplers import DWaveSampler            # Real annealing sampler"
   ]
  },
  {
   "cell_type": "markdown",
   "metadata": {},
   "source": [
    "Lo siguiente es utilizar la libreria `networkx` para crear el grafo que representa nuestro problema del viajante. Como peso, pondremos sus distancias respectivas:"
   ]
  },
  {
   "cell_type": "code",
   "execution_count": 2,
   "metadata": {},
   "outputs": [],
   "source": [
    "G = nx.Graph()\n",
    "G.add_edge('Logroño', 'Haro', weight=48)\n",
    "G.add_edge('Logroño', 'Cenicero',  weight=21)\n",
    "G.add_edge('Logroño', 'Nájera', weight=30)\n",
    "G.add_edge('Haro', 'Cenicero',  weight=22)\n",
    "G.add_edge('Haro', 'Nájera', weight=32)\n",
    "G.add_edge('Cenicero', 'Nájera', weight=12) "
   ]
  },
  {
   "cell_type": "markdown",
   "metadata": {},
   "source": [
    "Para que visualiceis un poco las relaciones de distancias entre cada una de las ciudades, vamos a plotearlas:"
   ]
  },
  {
   "cell_type": "code",
   "execution_count": 3,
   "metadata": {},
   "outputs": [
    {
     "data": {
      "image/png": "[encoded data removed]",
      "text/plain": [
       "<Figure size 432x288 with 2 Axes>"
      ]
     },
     "metadata": {},
     "output_type": "display_data"
    }
   ],
   "source": [
    "adj = nx.adjacency_matrix(G).todense()\n",
    "mask = np.zeros_like(adj)\n",
    "mask[np.triu_indices_from(mask)] = True\n",
    "with sns.axes_style(\"white\"):\n",
    "    ax = sns.heatmap(adj, mask=mask, square=True, cmap=\"YlGnBu\", xticklabels=G.nodes)\n",
    "    ax.set_yticklabels(G.nodes, rotation=0)\n",
    "    plt.show()"
   ]
  },
  {
   "cell_type": "markdown",
   "metadata": {},
   "source": [
    "Ahora vamos a crear el Hamiltoniano que hemos definido más arriba, que como hemos dicho vendrá dado por la función $Q$. Como tenemos 4 ciudades, según las definiciones anteriores tenemos que tener $4^2 = 16$ qubits, cada uno correspondiente al par *(ciudad, tiempo)*. Como hemos dicho, la tarea de crear el Hamiltoniano que representa nuestro problema de optimización recibe el nombre de [Quadratic unconstrained binary optimization (QUBO)](https://en.wikipedia.org/wiki/Quadratic_unconstrained_binary_optimization). Empecemos con las interacciones entre ciudades, que dependian de las distacia:"
   ]
  },
  {
   "cell_type": "code",
   "execution_count": 23,
   "metadata": {},
   "outputs": [],
   "source": [
    "# Begin with empty QUBO\n",
    "N = G.number_of_nodes()    # Number of timesteps\n",
    "Q = {((city_1, time_1),(city_2, time_2)): 0. for city_1 in G for city_2 in G for time_1 in range(N) for time_2 in range(N)}\n",
    "\n",
    "# Put distances: Q[city_i, time][city_j, time+1] = d_ij\n",
    "for city_1 in G:\n",
    "    for city_2 in set(G) - {city_1}:\n",
    "        for time in range(N):\n",
    "            Q[((city_1, time), (city_2, (time+1)%N))] += G[city_1][city_2]['weight']"
   ]
  },
  {
   "cell_type": "markdown",
   "metadata": {},
   "source": [
    "Ahora vamos a definir las penalizaciones. En este caso vamos a considerar que $\\lambda_1 = \\lambda_2 = 200$. Empecemos con la penalización sobre visitar una única vez cada ciudad:"
   ]
  },
  {
   "cell_type": "code",
   "execution_count": 24,
   "metadata": {},
   "outputs": [],
   "source": [
    "penalty = 200\n",
    "\n",
    "for time in range(N):\n",
    "    for city_1 in G:\n",
    "        Q[((city_1, time), (city_1, time))] -= penalty\n",
    "        for city_2 in set(G)-{city_1}:\n",
    "            Q[((city_1, time), (city_2, time))] += penalty"
   ]
  },
  {
   "cell_type": "markdown",
   "metadata": {},
   "source": [
    "Ahora la penalización sobre las visitas de más de una ciudad en un mismo tiempo:"
   ]
  },
  {
   "cell_type": "code",
   "execution_count": 25,
   "metadata": {},
   "outputs": [],
   "source": [
    "for city in G:\n",
    "    for time_1 in range(N):\n",
    "        Q[((city, time_1), (city, time_1))] -= penalty\n",
    "        for time_2 in set(range(N)) - {time_1}:\n",
    "            Q[((city, time_1), (city, time_2))] += penalty"
   ]
  },
  {
   "cell_type": "markdown",
   "metadata": {},
   "source": [
    "Y ya tenemos listo nuestro QUBO! Tenemos la matriz $Q$ como Hamiltonian, y ahora vamos a usar el software de D-wave para hacer *quantum annealing*. El proceso es bastante similar al de `Qiskit`. Por ejemplo, también tenemos la posibilidad de trabajar con simuladores o con chips reales. Como no nos queremos entretener demasiado, vamos a centrarnos en el simulador. Pero si consiguís un token con vuestra cuenta de D-wave, también podeis correr el código en la máquina real. Cuando os hagaís la cuenta, os darán 1 minuto de tiempo de QPU, lo suficiente para implementar entre 400 y 4000 problemas (según ellos)!!!"
   ]
  },
  {
   "cell_type": "code",
   "execution_count": 9,
   "metadata": {},
   "outputs": [],
   "source": [
    "sampler_simulator = SimulatedAnnealingSampler()\n",
    "\n",
    "login_token = 'YOUR_TOKEN'\n",
    "if login_token != 'YOUR_TOKEN':\n",
    "    real_chip_sampler = EmbeddingComposite(DWaveSampler(endpoint='https://cloud.dwavesys.com/sapi',\n",
    "                                                        token=login_token,\n",
    "                                                        solver='DW_2000Q_2_1'))"
   ]
  },
  {
   "cell_type": "markdown",
   "metadata": {},
   "source": [
    "Recordad que los qbits de D-wave se inicializaban de manera diferente a los de Qiskit. En este caso, el estado inicial del sistema es $|+\\rangle^{\\otimes n}=\\frac{1}{\\sqrt{2^n}}\\sum_{x=0}^{2^n-1}|x\\rangle$, el estado fundamental del Hamiltoniano $H_0=\\sum_{i=1}^n X_i$. Pará resolver el problema utilizando el Quantum Annealing simplemente tenemos que hacer:"
   ]
  },
  {
   "cell_type": "code",
   "execution_count": 11,
   "metadata": {},
   "outputs": [
    {
     "data": {
      "text/plain": [
       "SampleSet(rec.array([([0, 1, 0, 0, 0, 0, 1, 0, 1, 0, 0, 0, 0, 0, 0, 1], -1495., 1),\n",
       "           ([0, 0, 1, 0, 0, 1, 0, 0, 1, 0, 0, 0, 0, 0, 0, 1], -1488., 1),\n",
       "           ([1, 0, 0, 0, 0, 0, 0, 1, 0, 0, 1, 0, 0, 1, 0, 0], -1488., 1),\n",
       "           ([0, 0, 0, 1, 0, 1, 0, 0, 0, 0, 1, 0, 1, 0, 0, 0], -1487., 1),\n",
       "           ([0, 1, 0, 0, 1, 0, 0, 0, 0, 0, 0, 1, 0, 0, 1, 0], -1488., 1),\n",
       "           ([0, 0, 0, 1, 1, 0, 0, 0, 0, 0, 1, 0, 0, 1, 0, 0], -1495., 1),\n",
       "           ([0, 0, 0, 1, 0, 1, 0, 0, 1, 0, 0, 0, 0, 0, 1, 0], -1487., 1),\n",
       "           ([0, 1, 0, 0, 0, 0, 1, 0, 0, 0, 0, 1, 1, 0, 0, 0], -1488., 1),\n",
       "           ([1, 0, 0, 0, 0, 0, 1, 0, 0, 0, 0, 1, 0, 1, 0, 0], -1487., 1),\n",
       "           ([1, 0, 0, 0, 0, 0, 1, 0, 0, 1, 0, 0, 0, 0, 0, 1], -1487., 1)],\n",
       "          dtype=[('sample', 'i1', (16,)), ('energy', '<f8'), ('num_occurrences', '<i8')]), [('Cenicero', 0), ('Cenicero', 1), ('Cenicero', 2), ('Cenicero', 3), ('Haro', 0), ('Haro', 1), ('Haro', 2), ('Haro', 3), ('Logroño', 0), ('Logroño', 1), ('Logroño', 2), ('Logroño', 3), ('Nájera', 0), ('Nájera', 1), ('Nájera', 2), ('Nájera', 3)], {}, 'BINARY')"
      ]
     },
     "execution_count": 11,
     "metadata": {},
     "output_type": "execute_result"
    }
   ],
   "source": [
    "response = sampler_simulator.sample_qubo(Q)\n",
    "response"
   ]
  },
  {
   "cell_type": "markdown",
   "metadata": {},
   "source": [
    "El output de la implementación son las diferentes configuraciones de spines, con su correspondiente energía. La primera configuración corresponde al estado de mínima energía, y por lo tanto a la ruta óptima. Vamos a hacer un poco de post processing con la siguiente función para averiguar a que ruta corresponde dicha configuración. "
   ]
  },
  {
   "cell_type": "code",
   "execution_count": 12,
   "metadata": {},
   "outputs": [],
   "source": [
    "def postprocess(response):\n",
    "    # Take the first element of response.data(),\n",
    "    # which is the sample with lowest energy \n",
    "    sample = next(response.data()).sample\n",
    "    route = []\n",
    "    for entry in sample:\n",
    "        if sample[entry] > 0:\n",
    "            route.append(entry)\n",
    "    route.sort(key=lambda x: x[1])\n",
    "    route = (x[0] for x in route)\n",
    "    return list(route)"
   ]
  },
  {
   "cell_type": "code",
   "execution_count": 14,
   "metadata": {},
   "outputs": [
    {
     "name": "stdout",
     "output_type": "stream",
     "text": [
      "La ruta óptima es Logroño -> Cenicero -> Haro -> Nájera, con una distancia total de 105 km.\n"
     ]
    }
   ],
   "source": [
    "optimal_route = postprocess(response)\n",
    "distance = sum([G[optimal_route[i]][optimal_route[(i+1)%N]]['weight'] for i in range(N)])\n",
    "print('La ruta óptima es ' + ' -> '.join(optimal_route) + ', con una distancia total de {} km.'.format(distance))"
   ]
  },
  {
   "cell_type": "markdown",
   "metadata": {},
   "source": [
    "**Ejercicio 1:** Si correis el código una serie de veces, vereis que la ruta es siempre la misma, pero empezando por una ciudad diferente. Esto tiene sentido ya que la distancia recorrida no depende del punto incial. No obstante, el cartero no empieza su ruta desde cualquier ciudad, si no en la cual esta la oficina de correos! Modificar la matríz $Q$ de manera que el viajante siempre empiece en una misma ciudad. Corred el código una serie de veces de manera que veais que la ciudad inicial siempre es la que habeís elegido.\n",
    "\n",
    "**Ejercici 2:** Durante los durante días de invierno, la nieve bloquea el paso entre Haro y Cenicero, haciendo este camino infranqueable. Modificar la matriz $Q$ de manera que la ruta óptima no pase por este segmento de la ruta. Cual es ahora la ruta óptima?"
   ]
  },
  {
   "cell_type": "code",
   "execution_count": 33,
   "metadata": {},
   "outputs": [
    {
     "name": "stdout",
     "output_type": "stream",
     "text": [
      "La ruta óptima es Logroño -> Cenicero -> Haro -> Nájera, con una distancia total de 105 km.\n"
     ]
    }
   ],
   "source": [
    "# Solución 1\n",
    "initial_city = 'Logroño'\n",
    "favor = 2*penalty\n",
    "\n",
    "Q[((initial_city, 0), (initial_city, 0))] -= favor\n",
    "    \n",
    "response = sampler_simulator.sample_qubo(Q)\n",
    "\n",
    "optimal_route = postprocess(response)\n",
    "distance = sum([G[optimal_route[i]][optimal_route[(i+1)%N]]['weight'] for i in range(N)])\n",
    "print('La ruta óptima es ' + ' -> '.join(optimal_route) + ', con una distancia total de {} km.'.format(distance))"
   ]
  },
  {
   "cell_type": "code",
   "execution_count": 15,
   "metadata": {},
   "outputs": [
    {
     "name": "stdout",
     "output_type": "stream",
     "text": [
      "La ruta óptima es Cenicero -> Logroño -> Haro -> Nájera, con una distancia total de 113 km.\n"
     ]
    }
   ],
   "source": [
    "# Solución 2\n",
    "city1 = 'Haro'\n",
    "city2 = 'Cenicero'\n",
    "for t in range(N):\n",
    "    Q[((city1, t), (city2, (t+1)%N))] += penalty\n",
    "    Q[((city2, t), (city1, (t+1)%N))] += penalty\n",
    "    \n",
    "    \n",
    "response = sampler_simulator.sample_qubo(Q)\n",
    "\n",
    "optimal_route = postprocess(response)\n",
    "distance = sum([G[optimal_route[i]][optimal_route[(i+1)%N]]['weight'] for i in range(N)])\n",
    "print('La ruta óptima es ' + ' -> '.join(optimal_route) + ', con una distancia total de {} km.'.format(distance))"
   ]
  }
 ],
 "metadata": {
  "kernelspec": {
   "display_name": "Python 3",
   "language": "python",
   "name": "python3"
  },
  "language_info": {
   "codemirror_mode": {
    "name": "ipython",
    "version": 3
   },
   "file_extension": ".py",
   "mimetype": "text/x-python",
   "name": "python",
   "nbconvert_exporter": "python",
   "pygments_lexer": "ipython3",
   "version": "3.7.4"
  }
 },
 "nbformat": 4,
 "nbformat_minor": 2
}
