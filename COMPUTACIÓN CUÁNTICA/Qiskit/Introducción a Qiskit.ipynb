{
 "cells": [
  {
   "cell_type": "markdown",
   "metadata": {},
   "source": [
    "# Introducción a la información cuántica con `Qiskit` "
   ]
  },
  {
   "cell_type": "markdown",
   "metadata": {},
   "source": [
    "En este notebook vamos a repasar uno por uno los conceptos que expusimos en la clase teórica de *Introducción a la Información Cuántica*, pero esta vez vamos a ir implementandolos en un sistema cuántico real mediante la librería de IBM `Qiskit`. Antes de entrar en materia, vamos a hacer un resumen muy general de esta librería."
   ]
  },
  {
   "cell_type": "markdown",
   "metadata": {},
   "source": [
    "### Introducción a `Qiskit`\n",
    "\n",
    "Citando de la pagina web [www.qiskit.org](https://qiskit.org), se trata de *'un framework open-source para el desarollo de software de computación cuántica'*. Es decir, una plataforma a través de la cual podemos crear diferentes herramientas y algoritmos basados en la información cuántica. Consta de cuatro ramas:\n",
    "\n",
    "- **Terra:** es la base sobre la que esta construido el resto de la librería. Es donde están definidas las bases con las que generaremos los circuitos sobre los que correran nuestros algoritmos. Terra permite controlar cada uno de los elementos de dicho circuitos, en su forma más fundamental. Al ser la parte más *low-level* de la librería, no entraremos en los detalles durante este curso.\n",
    "\n",
    "- **Aer:** nos da las herramientas con las que simular los circuitos que creemos. Antes de lanzar nuestro programa a un chip cuántico, a veces queremos comprobar si el circuito que hemos generado hace lo que queríamos que hiciese. Para ello, Aer introduce un serie de simuladores cuánticos con los que llevar a cabo dicha tarea. Al ser simuladores, están basados en computación clásica, por lo que solo nos serán utiles cuando tratemos con sistemas de pocos qbits.\n",
    "\n",
    "- **Ignis:** nos permite luchar contra el ruido y los errores que puedan aparecer en nuestros circuitos. Como veremos más adelante, los chips cuánticos son herramientas muy precisas, por lo que la aparición de cualquier tipo de ruido perturba los resultados que obtenemos. Solventar estos problemas nos ayuda a crear circuitos más precisos. También nos permite crear nuevos elementos para los circuitos. Al igual que con Terra, no entraremos en los detalles de esta subclase.\n",
    "\n",
    "- **Aqua:** nos permite importar algoritmos con los que poder solucionar problemas reales. Cuando comencemos a construir nuestros circuitos, veremos que algunos algoritmos son bastante difíciles de implementar. Qiskit pone a nuestro alcance la librería Aqua para no tener que trabajar a nivel de circuitos, si no simplemente importar los diferentes algoritmos cuánticos y implementar el problema que queramos solucionar. Existen algoritmos para Machine Learning, solucionar problemas de química compleja, problemas de finanzas, optimización,...\n",
    "\n",
    "Para acceder a todas estás herramientas, lo único que necesitamos es importar la librería `Qiskit` a nuestro ordenador. [En esta página](https://qiskit.org/documentation/install.html) encontrareis detalles sobre como instalar dicha librería. Si teneís ya Python (versión minima 3.0) instalado, basta que corraís \n",
    "`pip install qiskit`\n",
    "o\n",
    "`conda install qiskit` (en caso de que utiliceis anaconda) en vuestro terminal. Una vez lo teneís instalado, podeís comprobar que todo funciona correctamente haciendo"
   ]
  },
  {
   "cell_type": "code",
   "execution_count": 2,
   "metadata": {},
   "outputs": [],
   "source": [
    "#pip install qiskit\n",
    "from qiskit import *"
   ]
  },
  {
   "cell_type": "markdown",
   "metadata": {},
   "source": [
    "Existe otra manera de implementar circuitos cuánticos con Qiskit, usand el `Circuit composer`. Podeís encontrar una guía introductoría en [este enlance](https://quantum-computing.ibm.com/support/guides/getting-started-with-circuit-composer). El Circuit composer nos permite, de manera visual, crear circuitos para luego ejecutarlos en los diferentes chips cuánticos. Al ser una herramienta visual, el Circuit composer no es muy útil de cara a la creación de circuitos complejos, ya que tenemos que *arrastrar* las puertas a cada uno de los canales del circuito. Por tanto, no lo utilizaremos en este curso.\n",
    "\n",
    "En python, una vez tenemos acceso a la librería `Qiskit`, vamos a implementar los conceptos que estudiamos en la introducción teórica."
   ]
  },
  {
   "cell_type": "markdown",
   "metadata": {},
   "source": [
    "## 1 - Single Qubits\n",
    "\n",
    "Como vimos, los qubits son las unidades básicas de información de los circuitos cuánticos. Para crear un circuito en Qiskit basta con llamar a la función `QuantumCircuit` y declarar cuantos qubits queremos que contenga. De momento, vamos a contentarnos con un solo qubit:"
   ]
  },
  {
   "cell_type": "code",
   "execution_count": 2,
   "metadata": {},
   "outputs": [],
   "source": [
    "qubit = QuantumCircuit(1)"
   ]
  },
  {
   "cell_type": "markdown",
   "metadata": {},
   "source": [
    "Podemos ver gráficamente el circuito utilizando"
   ]
  },
  {
   "cell_type": "code",
   "execution_count": 3,
   "metadata": {
    "scrolled": true
   },
   "outputs": [
    {
     "data": {
      "image/png": "[encoded data removed]",
      "text/plain": [
       "<Figure size 113.176x84.28 with 1 Axes>"
      ]
     },
     "execution_count": 3,
     "metadata": {},
     "output_type": "execute_result"
    }
   ],
   "source": [
    "qubit.draw(output='mpl')"
   ]
  },
  {
   "cell_type": "markdown",
   "metadata": {},
   "source": [
    "Todos los qubits que inicialicemos en Qiskit estarán en el estado $|0\\rangle$. Para asegurarnos, vamos medir el estado del qubit. Para poder hacerlo, necesitamos introducir un registro en el cual guardar el valor de las medidas. Lo llamaremos el registro clásico. Vamos a redefinir el circuito para contener un registro clásicos:"
   ]
  },
  {
   "cell_type": "code",
   "execution_count": 4,
   "metadata": {},
   "outputs": [
    {
     "data": {
      "image/png": "[encoded data removed]",
      "text/plain": [
       "<Figure size 113.176x144.48 with 1 Axes>"
      ]
     },
     "execution_count": 4,
     "metadata": {},
     "output_type": "execute_result"
    }
   ],
   "source": [
    "qubit = QuantumCircuit(1, 1) # un qubit, un registro clásico\n",
    "qubit.draw(output='mpl')"
   ]
  },
  {
   "cell_type": "markdown",
   "metadata": {},
   "source": [
    "Ahora tenemos un registro cuántico y un registro clásico. Ahora podemos hacer toda serie de medidas que queramos. Vamos a intentar reproducir los resultados que obtuvimos con la esfera de Bloch. Para ello, vamos a definir las medidas sobre el eje $x,y,z$. Las medidas en `Qiskit` siempre se hacen con respecto al eje $z$, por lo que la primera medida es"
   ]
  },
  {
   "cell_type": "code",
   "execution_count": 5,
   "metadata": {},
   "outputs": [
    {
     "data": {
      "image/png": "[encoded data removed]",
      "text/plain": [
       "<Figure size 173.376x144.48 with 1 Axes>"
      ]
     },
     "execution_count": 5,
     "metadata": {},
     "output_type": "execute_result"
    }
   ],
   "source": [
    "# Medida en z\n",
    "med_z = QuantumCircuit(1,1)\n",
    "med_z.measure(0,0)\n",
    "med_z.draw(output='mpl')"
   ]
  },
  {
   "cell_type": "markdown",
   "metadata": {},
   "source": [
    "La medida en $x$ la vamos a definir de la manera siguiente (los más avispados ya irán entendiendo que significa la `h` del circuito!)"
   ]
  },
  {
   "cell_type": "code",
   "execution_count": 16,
   "metadata": {
    "scrolled": true
   },
   "outputs": [
    {
     "data": {
      "image/png": "[encoded data removed]",
      "text/plain": [
       "<Figure size 233.576x144.48 with 1 Axes>"
      ]
     },
     "execution_count": 16,
     "metadata": {},
     "output_type": "execute_result"
    }
   ],
   "source": [
    "# Medida en x\n",
    "med_x = QuantumCircuit(1,1)\n",
    "med_x.h(0)\n",
    "med_x.measure(0,0)\n",
    "\n",
    "med_x.draw(output='mpl')"
   ]
  },
  {
   "cell_type": "markdown",
   "metadata": {},
   "source": [
    "La medida sobre el eje y es la mas compleja de las tres:"
   ]
  },
  {
   "cell_type": "code",
   "execution_count": 13,
   "metadata": {},
   "outputs": [
    {
     "data": {
      "image/png": "[encoded data removed]",
      "text/plain": [
       "<Figure size 293.776x144.48 with 1 Axes>"
      ]
     },
     "execution_count": 13,
     "metadata": {},
     "output_type": "execute_result"
    }
   ],
   "source": [
    "med_y = QuantumCircuit(1,1)\n",
    "med_y.sdg(0)\n",
    "med_y.h(0)\n",
    "med_y.measure(0,0)\n",
    "\n",
    "med_y.draw(output='mpl')"
   ]
  },
  {
   "cell_type": "markdown",
   "metadata": {},
   "source": [
    "Ahora vamos a medir el qubit original en estas dos bases. Empezemos por el eje $z$. Para ello, solo tenemos que unir nuestro qubit y la medida:"
   ]
  },
  {
   "cell_type": "code",
   "execution_count": 14,
   "metadata": {
    "scrolled": true
   },
   "outputs": [
    {
     "data": {
      "image/png": "[encoded data removed]",
      "text/plain": [
       "<Figure size 173.376x144.48 with 1 Axes>"
      ]
     },
     "execution_count": 14,
     "metadata": {},
     "output_type": "execute_result"
    }
   ],
   "source": [
    "qubit_z = qubit + med_z\n",
    "\n",
    "qubit_z.draw(output='mpl')"
   ]
  },
  {
   "cell_type": "markdown",
   "metadata": {},
   "source": [
    "Para ver el resultado de la medición, vamos a importar un simulador de circuitos de Aer llamado `qasm_simulator`. Este simulador será el *backend* sobre el que ejectuemos nuestro circuito:"
   ]
  },
  {
   "cell_type": "code",
   "execution_count": 8,
   "metadata": {
    "scrolled": false
   },
   "outputs": [],
   "source": [
    "# Añadimos una libreria para visualizar los resultados\n",
    "from qiskit.visualization import plot_histogram \n",
    "\n",
    "counts = execute(qubit_z,\n",
    "                 Aer.get_backend('qasm_simulator')).result().get_counts()\n",
    "plot_histogram(counts)"
   ]
  },
  {
   "cell_type": "markdown",
   "metadata": {},
   "source": [
    "La variable counts nos dice cuantas veces hemos medido cada uno de los estados posibles. En este caso solo teníamos el estado cero, por lo que todas las medidas nos devuelven ese estado."
   ]
  },
  {
   "cell_type": "markdown",
   "metadata": {},
   "source": [
    "**Ejercicio:**  \n",
    "- ¿Como interpretais el resultado anterior? Calcular $p^z_0(|0\\rangle)$ y comprobar si os da el mismo resultado.\n",
    "- ¿Que valor esperais encontrar cuando midais en el eje $x$? Hacer primero la predicción teórica y luego implementadla de la misma forma que hemos implementado la del eje $z$."
   ]
  },
  {
   "cell_type": "code",
   "execution_count": 23,
   "metadata": {
    "scrolled": true
   },
   "outputs": [
    {
     "data": {
      "image/png": "[encoded data removed]",
      "text/plain": [
       "<Figure size 504x360 with 1 Axes>"
      ]
     },
     "execution_count": 23,
     "metadata": {},
     "output_type": "execute_result"
    }
   ],
   "source": [
    "# Solución\n",
    "# Generamos un qbit\n",
    "#qbit_zprima = QuantumCircuit(1)\n",
    "#qbit_zprima.h(0)\n",
    "qubit_z = qubit + med_x\n",
    "counts = execute(qubit_z,\n",
    "                 Aer.get_backend('qasm_simulator')).result().get_counts()\n",
    "plot_histogram(counts)\n",
    "\n",
    "\n",
    "\n"
   ]
  },
  {
   "cell_type": "markdown",
   "metadata": {},
   "source": [
    "Ahora vamos a hacer un cálculo análogo al anterior, pero con un estado inicial diferente. Vamos crear el estado $\\frac{|0\\rangle+|1\\rangle}{\\sqrt{2}}$. Como sabemos que los estados se incializan en $x$, simplemente tenemos que aplicar una puerta Hadamard:"
   ]
  },
  {
   "cell_type": "code",
   "execution_count": 17,
   "metadata": {},
   "outputs": [
    {
     "data": {
      "text/plain": [
       "<qiskit.circuit.instructionset.InstructionSet at 0x1a1cb198d0>"
      ]
     },
     "execution_count": 17,
     "metadata": {},
     "output_type": "execute_result"
    }
   ],
   "source": [
    "qubit_plus = QuantumCircuit(1,1)\n",
    "qubit_plus.h(0) # Puerta de Hadamard"
   ]
  },
  {
   "cell_type": "markdown",
   "metadata": {},
   "source": [
    "Si ahora medimos este estado en la base $z$, encontramos"
   ]
  },
  {
   "cell_type": "code",
   "execution_count": 18,
   "metadata": {},
   "outputs": [
    {
     "data": {
      "image/png": "[encoded data removed]",
      "text/plain": [
       "<Figure size 504x360 with 1 Axes>"
      ]
     },
     "execution_count": 18,
     "metadata": {},
     "output_type": "execute_result"
    }
   ],
   "source": [
    "plus_z = qubit_plus + med_z\n",
    "\n",
    "counts_plus = execute(plus_z,\n",
    "                 Aer.get_backend('qasm_simulator')).result().get_counts()\n",
    "plot_histogram(counts_plus)"
   ]
  },
  {
   "cell_type": "markdown",
   "metadata": {},
   "source": [
    "Lo anterior quiere decir que nuestro estado está en una superposición equiprobable, por lo que la mitad de veces medimos el estado en $0$ y la otra mitad en $1$. El hecho de que las probabilidades no sean 0.5/0.5 viene del hecho que estamos haciendo un número finito de medidas sobre nuestro backend. Cuantas más medidas, más nos acercaremos al valor exacto. Este número de veces se controla con la variables `shots`. Este es un ejemplo con un valor demasiado pequeño de shots:"
   ]
  },
  {
   "cell_type": "code",
   "execution_count": 27,
   "metadata": {
    "scrolled": true
   },
   "outputs": [
    {
     "data": {
      "image/png": "[encoded data removed]",
      "text/plain": [
       "<Figure size 504x360 with 1 Axes>"
      ]
     },
     "execution_count": 27,
     "metadata": {},
     "output_type": "execute_result"
    }
   ],
   "source": [
    "shots = 10000\n",
    "counts_plus = execute(plus_z,\n",
    "                      Aer.get_backend('qasm_simulator'),\n",
    "                      shots = shots).result().get_counts()\n",
    "plot_histogram(counts_plus)"
   ]
  },
  {
   "cell_type": "markdown",
   "metadata": {},
   "source": [
    "Como el número de shots es demasiado pequeño, la estadística no es nada buena.\n",
    "\n",
    "**Ejercicio:** ¿Que probabilidades de encontrar 0 y 1 obtenemos si medimos $|+\\rangle$ en la base $x$? Comprobadlo teóricamente y con Qiskit."
   ]
  },
  {
   "cell_type": "code",
   "execution_count": 28,
   "metadata": {},
   "outputs": [
    {
     "data": {
      "image/png": "[encoded data removed]",
      "text/plain": [
       "<Figure size 504x360 with 1 Axes>"
      ]
     },
     "execution_count": 28,
     "metadata": {},
     "output_type": "execute_result"
    }
   ],
   "source": [
    "# Solución\n",
    "plus_x = qubit_plus + med_x\n",
    "\n",
    "counts_plus = execute(plus_x,\n",
    "                 Aer.get_backend('qasm_simulator')).result().get_counts()\n",
    "plot_histogram(counts_plus)"
   ]
  },
  {
   "cell_type": "markdown",
   "metadata": {},
   "source": [
    "## 2 - Multiples qubits\n",
    "\n",
    "De la misma manera que hemos definido un qubit, podemos definir muchos más:"
   ]
  },
  {
   "cell_type": "code",
   "execution_count": 54,
   "metadata": {},
   "outputs": [],
   "source": [
    "two_qubit = QuantumCircuit(2, 2)"
   ]
  },
  {
   "cell_type": "markdown",
   "metadata": {},
   "source": [
    "Hemos creado también dos registros clásicos para guardar las medidas que vayamos haciendo. El principio ahora es el mismo que con single qubits. La unica diferencia es que a la hora de aplicar puertas lógicas y medidas, tenemos que especificar el qubit sobre el que queremos actuar. Por ejemplo, si queremos aplicar una puerta de Hadamard sobre el qubit $0$, debemos hacer:"
   ]
  },
  {
   "cell_type": "code",
   "execution_count": 55,
   "metadata": {},
   "outputs": [
    {
     "data": {
      "text/plain": [
       "<qiskit.circuit.instructionset.InstructionSet at 0x1a1d68ae50>"
      ]
     },
     "execution_count": 55,
     "metadata": {},
     "output_type": "execute_result"
    }
   ],
   "source": [
    "two_qubit.h(0)"
   ]
  },
  {
   "cell_type": "markdown",
   "metadata": {},
   "source": [
    "Para hacer lo mismo sobre el qubit $1$ hacemos:"
   ]
  },
  {
   "cell_type": "code",
   "execution_count": 56,
   "metadata": {
    "scrolled": true
   },
   "outputs": [
    {
     "data": {
      "image/png": "[encoded data removed]",
      "text/plain": [
       "<Figure size 216.72x204.68 with 1 Axes>"
      ]
     },
     "execution_count": 56,
     "metadata": {},
     "output_type": "execute_result"
    }
   ],
   "source": [
    "two_qubit.h(1)\n",
    "\n",
    "two_qubit.draw(output='mpl')"
   ]
  },
  {
   "cell_type": "markdown",
   "metadata": {},
   "source": [
    "Para hacer medidas, tenemos que asignar que qubit queremos medir y en que registro queremos guardar el resultado. **Tened en cuenta que el output de las medidas esta en orden opuesto al número del qubit, es decir, la medición sobre el qubit cero es el valor del output de más a la derecha y así sucesivamente.**"
   ]
  },
  {
   "cell_type": "code",
   "execution_count": 49,
   "metadata": {},
   "outputs": [
    {
     "data": {
      "image/png": "[encoded data removed]",
      "text/plain": [
       "<Figure size 337.12x204.68 with 1 Axes>"
      ]
     },
     "execution_count": 49,
     "metadata": {},
     "output_type": "execute_result"
    }
   ],
   "source": [
    "two_qubit.measure(0, 0)\n",
    "two_qubit.measure(1, 1)\n",
    "\n",
    "two_qubit.draw(output='mpl')"
   ]
  },
  {
   "cell_type": "markdown",
   "metadata": {},
   "source": [
    "**Ejercicio:** ¿Cual es el estado actual de nuestro sistema? Haced una propuesta teórica y despues medir ambos qubits en la base $z$ para comprobar el resultado."
   ]
  },
  {
   "cell_type": "code",
   "execution_count": 63,
   "metadata": {},
   "outputs": [
    {
     "data": {
      "image/png": "[encoded data removed]",
      "text/plain": [
       "<Figure size 504x360 with 1 Axes>"
      ]
     },
     "execution_count": 63,
     "metadata": {},
     "output_type": "execute_result"
    }
   ],
   "source": [
    "circuit = QuantumCircuit(2,2)\n",
    "circuit.h(0)\n",
    "circuit.h(1)\n",
    "circuit.measure(0,0)\n",
    "circuit.measure(1,1)\n",
    "circuit.draw()\n",
    "simulator = Aer.get_backend('qasm_simulator')\n",
    "job = execute(circuit,simulator,shots = 10000)\n",
    "result = job.result()\n",
    "counts = result.get_counts(circuit)\n",
    "plot_histogram(counts)\n"
   ]
  },
  {
   "cell_type": "markdown",
   "metadata": {},
   "source": [
    "## 3 - Puertas lógicas cuánticas\n",
    "\n",
    "Tal y como vimos en la introducción teórica, un circuito cuántico, al igual que un circuto clásico, está compuesto de puertas lógicas. Qiskit nos propociona un libreria bastante extensa de puerta lógicas. Podeis hechar un vistazo a las más importantes en [este link](https://quantum-computing.ibm.com/support/guides/gate-overview) (para acceder necesitareis vuestra cuenta de IBM). Vamos a ver primero unas cuantas puertas lógicas de un solo qubit. En este notebook ya hemos utilzado una bastante típica, la puerta Hadamard:"
   ]
  },
  {
   "cell_type": "code",
   "execution_count": 77,
   "metadata": {
    "scrolled": true
   },
   "outputs": [
    {
     "data": {
      "text/plain": [
       "<qiskit.circuit.instructionset.InstructionSet at 0x1a1e29a450>"
      ]
     },
     "execution_count": 77,
     "metadata": {},
     "output_type": "execute_result"
    }
   ],
   "source": [
    "circuito = QuantumCircuit(1,1)\n",
    "circuito.h(0) # Puerta de Hadamard"
   ]
  },
  {
   "cell_type": "markdown",
   "metadata": {},
   "source": [
    "Podemos añadir el número que queramos de puertas a nuestro circuito. Por ejemplo, vamos a aplicar sucesivamente las puertas $X$, $Y$ y $Z$:"
   ]
  },
  {
   "cell_type": "code",
   "execution_count": 78,
   "metadata": {},
   "outputs": [
    {
     "data": {
      "image/png": "[encoded data removed]",
      "text/plain": [
       "<Figure size 353.976x144.48 with 1 Axes>"
      ]
     },
     "execution_count": 78,
     "metadata": {},
     "output_type": "execute_result"
    }
   ],
   "source": [
    "circuito.x(0)\n",
    "circuito.y(0)\n",
    "circuito.z(0)\n",
    "\n",
    "circuito.draw(output = 'mpl')"
   ]
  },
  {
   "cell_type": "markdown",
   "metadata": {},
   "source": [
    "**Ejercicio:** ¿Cual es el estado actual de nuestro sistema? Haced una propuesta teórica y despues medir ambos qubits en la base $z$ para comprobar el resultado."
   ]
  },
  {
   "cell_type": "code",
   "execution_count": 81,
   "metadata": {},
   "outputs": [
    {
     "data": {
      "image/png": "[encoded data removed]",
      "text/plain": [
       "<Figure size 504x360 with 1 Axes>"
      ]
     },
     "execution_count": 81,
     "metadata": {},
     "output_type": "execute_result"
    }
   ],
   "source": [
    "#Solución\n",
    "circuito.measure(0,0)\n",
    "simulator = Aer.get_backend('qasm_simulator')\n",
    "job = execute(circuito,simulator,shots = 10000)\n",
    "result = job.result()\n",
    "counts = result.get_counts(circuito)\n",
    "plot_histogram(counts)"
   ]
  },
  {
   "cell_type": "markdown",
   "metadata": {},
   "source": [
    "De la misma manera, podemos aplicar puertas multiqubits, como la puerta $CNOT$, que en Qiskit podremos encontrar como `cx`:"
   ]
  },
  {
   "cell_type": "code",
   "execution_count": 19,
   "metadata": {},
   "outputs": [
    {
     "data": {
      "image/png": "[encoded data removed]",
      "text/plain": [
       "<Figure size 504x360 with 1 Axes>"
      ]
     },
     "execution_count": 19,
     "metadata": {},
     "output_type": "execute_result"
    }
   ],
   "source": [
    "cnot0 = QuantumCircuit(2,2)\n",
    "cnot0.x(0)\n",
    "cnot0.cx(0,1)\n",
    "cnot0.measure(0,0)\n",
    "cnot0.measure(1,1)\n",
    "circuito = cnot0\n",
    "simulator = Aer.get_backend('qasm_simulator')\n",
    "job = execute(circuito,simulator,shots = 10000)\n",
    "result = job.result()\n",
    "counts = result.get_counts(circuito)\n",
    "plot_histogram(counts)\n",
    "# Se vuelve a corroborar que el primer parámetro es el de control y el segundo el dependiente"
   ]
  },
  {
   "cell_type": "code",
   "execution_count": 16,
   "metadata": {},
   "outputs": [
    {
     "data": {
      "image/png": "[encoded data removed]",
      "text/plain": [
       "<Figure size 504x360 with 1 Axes>"
      ]
     },
     "execution_count": 16,
     "metadata": {},
     "output_type": "execute_result"
    }
   ],
   "source": [
    "cnot = QuantumCircuit(2,2)\n",
    "cnot.h(0)#El entrelazamiento sólo se crea cuando control está superpuesto, es decir, el primer argumento de cx\n",
    "cnot.cx(0, 1)#Primer parámetro control y segundo target\n",
    "cnot.measure(0,0)\n",
    "cnot.measure(1,1)\n",
    "circuito = cnot\n",
    "simulator = Aer.get_backend('qasm_simulator')\n",
    "job = execute(circuito,simulator,shots = 10000)\n",
    "result = job.result()\n",
    "counts = result.get_counts(circuito)\n",
    "plot_histogram(counts)"
   ]
  },
  {
   "cell_type": "markdown",
   "metadata": {},
   "source": [
    "**Ejercicio:** Midiendo el circuito anterior para diferentes estados iniciales (recordad que los estados siempre se inicializan en $|0\\rangle$, y que $X|0\\rangle=|1\\rangle$) cual es el qubit de control y cual el target? "
   ]
  },
  {
   "cell_type": "code",
   "execution_count": null,
   "metadata": {
    "collapsed": true
   },
   "outputs": [],
   "source": [
    "# Solución\n",
    "# El cx, el primer parámetro es el control y el segundo el target - \n",
    "\n",
    "# Ha mandado otro ejercicio pero no me he enterado de lo que ha pedido. Así que a esperar lo que haga esta gente. "
   ]
  },
  {
   "cell_type": "markdown",
   "metadata": {},
   "source": [
    "Existe una manera alternativa de crear los circuitos de Qiskit, y es mediante la declaración por separado del registro clásico y cuántico. Esto tiene algunas ventajas como veremos a lo largo del curso. Vamos aplicar una puerta de tres qubits, llamada *puerta de Toffoli* (`ccx` en Qiskit, aplican la puerta $x$ al target siempre y cuando los dos qubits de control estén en $|1\\rangle$). Luego vamos a medir cada qubit y guardar la información en un registro clásico:"
   ]
  },
  {
   "cell_type": "code",
   "execution_count": 86,
   "metadata": {
    "scrolled": true
   },
   "outputs": [
    {
     "data": {
      "image/png": "[encoded data removed]",
      "text/plain": [
       "<Figure size 408.156x264.88 with 1 Axes>"
      ]
     },
     "execution_count": 86,
     "metadata": {},
     "output_type": "execute_result"
    }
   ],
   "source": [
    "q = QuantumRegister(3)\n",
    "c = ClassicalRegister(3)\n",
    "\n",
    "cnot_v2 = QuantumCircuit(q, c)\n",
    "\n",
    "cnot_v2.ccx(q[0], q[1], q[2])# Tiene 2 controles, el primer argumento y el segundo, siempre que los dos controladores estén en 1, girará el target. En todos los demás casos quedará igual\n",
    "\n",
    "for idx in range(len(q)):\n",
    "    cnot_v2.measure(q[idx], c[idx])\n",
    "    \n",
    "cnot_v2.draw(output = 'mpl')"
   ]
  },
  {
   "cell_type": "markdown",
   "metadata": {},
   "source": [
    "## 4 - Ejecutando circuitos en chips cuánticos\n",
    "\n",
    "Hasta ahora nos hemos en crear circuitos, y hemos hecho las mediciones utilizando uno de los simuladores de `Aer`. Pero la razón de que estemos todos aquí es la posibilidad de correr estos circuitos en ordenadores cuánticos reales. Para acceder a ellos, primero hemos de conseguir nuestro token, entrando en la página [https://quantum-computing.ibm.com/](https://quantum-computing.ibm.com/) con nuestros credenciales, clicando en la pestaña *User* (esquina superior derecha), luego clickando las pestaña *My account*. Ahi nos dara la opción, bajo la sección *Qiskit in local environment* de copiar nuestro token. Con este podremos comunicarnos desde nuestro ordenador con los chips cuánticos de IBM. Para hacerlo, hacemos lo siguiente:"
   ]
  },
  {
   "cell_type": "code",
   "execution_count": 3,
   "metadata": {
    "scrolled": false
   },
   "outputs": [
    {
     "name": "stderr",
     "output_type": "stream",
     "text": [
      "/opt/anaconda3/lib/python3.7/site-packages/qiskit/providers/ibmq/credentials/configrc.py:130: UserWarning: Credentials already present. Set overwrite=True to overwrite.\n",
      "  warnings.warn('Credentials already present. '\n"
     ]
    }
   ],
   "source": [
    "IBMQ.save_account('2052d42c515d6c72ccd0785184e1086d854b491f8116a234aa4f3ec78816acf81c4f67dd92f83c66fc0620ec27f751ea1bcbb9d6f51d727ea58f2cf3d5af53fa')\n",
    "IBMQ.load_account()\n",
    "provider = IBMQ.get_provider() "
   ]
  },
  {
   "cell_type": "markdown",
   "metadata": {},
   "source": [
    "Podemos ver los diferentes chips a los cuales tenemos acceso chequeando los backends disponibles:"
   ]
  },
  {
   "cell_type": "code",
   "execution_count": 5,
   "metadata": {
    "scrolled": true
   },
   "outputs": [
    {
     "data": {
      "text/plain": [
       "[<IBMQSimulator('ibmq_qasm_simulator') from IBMQ(hub='ibm-q', group='open', project='main')>,\n",
       " <IBMQBackend('ibmqx2') from IBMQ(hub='ibm-q', group='open', project='main')>,\n",
       " <IBMQBackend('ibmq_16_melbourne') from IBMQ(hub='ibm-q', group='open', project='main')>,\n",
       " <IBMQBackend('ibmq_vigo') from IBMQ(hub='ibm-q', group='open', project='main')>,\n",
       " <IBMQBackend('ibmq_ourense') from IBMQ(hub='ibm-q', group='open', project='main')>,\n",
       " <IBMQBackend('ibmq_london') from IBMQ(hub='ibm-q', group='open', project='main')>,\n",
       " <IBMQBackend('ibmq_burlington') from IBMQ(hub='ibm-q', group='open', project='main')>,\n",
       " <IBMQBackend('ibmq_essex') from IBMQ(hub='ibm-q', group='open', project='main')>]"
      ]
     },
     "execution_count": 5,
     "metadata": {},
     "output_type": "execute_result"
    }
   ],
   "source": [
    "provider.backends()"
   ]
  },
  {
   "cell_type": "markdown",
   "metadata": {},
   "source": [
    "Como no estamos interesados en ninguno de los chips en particular, vamos a elegir el que menos trabajos tenga asignados en este momento:"
   ]
  },
  {
   "cell_type": "code",
   "execution_count": 4,
   "metadata": {},
   "outputs": [
    {
     "name": "stdout",
     "output_type": "stream",
     "text": [
      "Least busy backend:  ibmqx2\n"
     ]
    }
   ],
   "source": [
    "backend_lb = providers.ibmq.least_busy(provider.backends(simulator=False))\n",
    "print(\"Least busy backend: \", backend_lb)"
   ]
  },
  {
   "cell_type": "markdown",
   "metadata": {},
   "source": [
    "**Ejercico:** Crear un circuito con 2 qbit y aplicar una puerta Hadamard a cada qbit. Luego medid el valor de cada qubit primero con el `qasm simulator` como backend y luego con el chip cuántico que acabamos de definir (es decir `backend = backend_lb`). Tened en cuenta que ejecutar un circuito en el chip cuántico puede tardar, dependiendo de la demanda de los chips. Podeis ver el estado de los chips entrando con vuestro usuaria a las pagina [https://quantum-computing.ibm.com](https://quantum-computing.ibm.com)"
   ]
  },
  {
   "cell_type": "code",
   "execution_count": 121,
   "metadata": {
    "scrolled": true
   },
   "outputs": [
    {
     "data": {
      "image/png": "[encoded data removed]",
      "text/plain": [
       "<Figure size 504x360 with 1 Axes>"
      ]
     },
     "execution_count": 121,
     "metadata": {},
     "output_type": "execute_result"
    }
   ],
   "source": [
    "# Solución\n",
    "two_qubit = QuantumCircuit(2, 2)\n",
    "two_qubit.h(0)\n",
    "two_qubit.h(1)\n",
    "two_qubit.measure(0,0)\n",
    "two_qubit.measure(1,1)\n",
    "backend = backend_lb\n",
    "counts = execute(two_qubit,\n",
    "                 backend).result().get_counts()\n",
    "plot_histogram(counts)"
   ]
  },
  {
   "cell_type": "code",
   "execution_count": null,
   "metadata": {},
   "outputs": [],
   "source": []
  }
 ],
 "metadata": {
  "kernelspec": {
   "display_name": "Python 3",
   "language": "python",
   "name": "python3"
  },
  "language_info": {
   "codemirror_mode": {
    "name": "ipython",
    "version": 3
   },
   "file_extension": ".py",
   "mimetype": "text/x-python",
   "name": "python",
   "nbconvert_exporter": "python",
   "pygments_lexer": "ipython3",
   "version": "3.7.4"
  }
 },
 "nbformat": 4,
 "nbformat_minor": 2
}
