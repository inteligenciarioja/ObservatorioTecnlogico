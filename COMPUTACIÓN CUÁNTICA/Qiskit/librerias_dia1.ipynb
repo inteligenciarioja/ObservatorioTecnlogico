{
 "cells": [
  {
   "cell_type": "markdown",
   "metadata": {},
   "source": [
    "# Librerías necesarias "
   ]
  },
  {
   "cell_type": "code",
   "execution_count": null,
   "metadata": {},
   "outputs": [],
   "source": [
    "imports = [ 'matplotlib', 'numpy', 'qiskit']\n",
    "for x in imports:\n",
    "    try:\n",
    "        __import__(x)\n",
    "        print(x + \" successfully imported\")\n",
    "    except ImportError:\n",
    "        print(\"ERROR: No se ha encontrado la librería \" + x )"
   ]
  },
  {
   "cell_type": "markdown",
   "metadata": {},
   "source": [
    "Para las librerias que no se encuentre (probablemente *Qiskit*, correr la siguiente celda:"
   ]
  },
  {
   "cell_type": "code",
   "execution_count": null,
   "metadata": {},
   "outputs": [],
   "source": [
    "import sys\n",
    "!{sys.executable} -m pip install qiskit"
   ]
  }
 ],
 "metadata": {
  "kernelspec": {
   "display_name": "Python 3",
   "language": "python",
   "name": "python3"
  },
  "language_info": {
   "codemirror_mode": {
    "name": "ipython",
    "version": 3
   },
   "file_extension": ".py",
   "mimetype": "text/x-python",
   "name": "python",
   "nbconvert_exporter": "python",
   "pygments_lexer": "ipython3",
   "version": "3.7.4"
  }
 },
 "nbformat": 4,
 "nbformat_minor": 2
}
