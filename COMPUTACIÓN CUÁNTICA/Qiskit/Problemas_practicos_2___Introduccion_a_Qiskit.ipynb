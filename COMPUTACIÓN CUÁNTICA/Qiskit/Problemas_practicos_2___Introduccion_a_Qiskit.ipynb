{
 "cells": [
  {
   "cell_type": "code",
   "execution_count": 1,
   "metadata": {},
   "outputs": [],
   "source": [
    "from qiskit import *\n",
    "import numpy as np\n",
    "import math"
   ]
  },
  {
   "cell_type": "markdown",
   "metadata": {},
   "source": [
    "### Problema práctico 1 - Puertas clásicas con puertas cuánticas\n",
    "\n",
    "Hemos visto durante este inicio del curso que las puertas lógicas cuánticas generalizan a las puertas clásicas, lo que quiere decir que con un circuito cuántico podemos representar cualquier circuito clásico. Para demostrar esto, crear, a partir de un circuito cuántico, las puertas $XOR$ y $NAND$. Las tablas de valores son las siguientes:\n",
    "\n",
    "**XOR:**\n",
    "\n",
    "| $A$ | $B$ | Out |\n",
    "|:---:|:---:|:---:|\n",
    "|0|0|0|\n",
    "|0|1|1|\n",
    "|1|0|1|\n",
    "|1|1|0|\n",
    "\n",
    "**NAND:**\n",
    "\n",
    "| $A$ | $B$ | Out |\n",
    "|:---:|:---:|:---:|\n",
    "|0|0|1|\n",
    "|0|1|1|\n",
    "|1|0|1|\n",
    "|1|1|0|\n",
    "\n",
    "Aquí teneis un ejemplo para la puerta $NOT$:"
   ]
  },
  {
   "cell_type": "code",
   "execution_count": 2,
   "metadata": {},
   "outputs": [
    {
     "name": "stdout",
     "output_type": "stream",
     "text": [
      "Requirement already satisfied: qiskit in /opt/anaconda3/lib/python3.7/site-packages (0.13.0)\n",
      "Requirement already satisfied: qiskit-terra==0.10.0 in /opt/anaconda3/lib/python3.7/site-packages (from qiskit) (0.10.0)\n",
      "Requirement already satisfied: qiskit-aer==0.3.2 in /opt/anaconda3/lib/python3.7/site-packages (from qiskit) (0.3.2)\n",
      "Requirement already satisfied: qiskit-ibmq-provider==0.3.3 in /opt/anaconda3/lib/python3.7/site-packages (from qiskit) (0.3.3)\n",
      "Requirement already satisfied: qiskit-ignis==0.2.0 in /opt/anaconda3/lib/python3.7/site-packages (from qiskit) (0.2.0)\n",
      "Requirement already satisfied: qiskit-aqua==0.6.1 in /opt/anaconda3/lib/python3.7/site-packages (from qiskit) (0.6.1)\n",
      "Requirement already satisfied: numpy>=1.13 in /opt/anaconda3/lib/python3.7/site-packages (from qiskit-terra==0.10.0->qiskit) (1.17.2)\n",
      "Requirement already satisfied: marshmallow<4,>=3 in /opt/anaconda3/lib/python3.7/site-packages (from qiskit-terra==0.10.0->qiskit) (3.2.1)\n",
      "Requirement already satisfied: networkx>=2.2 in /opt/anaconda3/lib/python3.7/site-packages (from qiskit-terra==0.10.0->qiskit) (2.3)\n",
      "Requirement already satisfied: jsonschema>=2.6 in /opt/anaconda3/lib/python3.7/site-packages (from qiskit-terra==0.10.0->qiskit) (3.0.2)\n",
      "Requirement already satisfied: ply>=3.10 in /opt/anaconda3/lib/python3.7/site-packages (from qiskit-terra==0.10.0->qiskit) (3.11)\n",
      "Requirement already satisfied: psutil>=5 in /opt/anaconda3/lib/python3.7/site-packages (from qiskit-terra==0.10.0->qiskit) (5.6.3)\n",
      "Requirement already satisfied: scipy>=1.0 in /opt/anaconda3/lib/python3.7/site-packages (from qiskit-terra==0.10.0->qiskit) (1.3.1)\n",
      "Requirement already satisfied: sympy>=1.3 in /opt/anaconda3/lib/python3.7/site-packages (from qiskit-terra==0.10.0->qiskit) (1.4)\n",
      "Requirement already satisfied: marshmallow-polyfield<6,>=5.7 in /opt/anaconda3/lib/python3.7/site-packages (from qiskit-terra==0.10.0->qiskit) (5.7)\n",
      "Requirement already satisfied: nest-asyncio==1.0.0 in /opt/anaconda3/lib/python3.7/site-packages (from qiskit-ibmq-provider==0.3.3->qiskit) (1.0.0)\n",
      "Requirement already satisfied: requests>=2.19 in /opt/anaconda3/lib/python3.7/site-packages (from qiskit-ibmq-provider==0.3.3->qiskit) (2.22.0)\n",
      "Requirement already satisfied: requests-ntlm>=1.1.0 in /opt/anaconda3/lib/python3.7/site-packages (from qiskit-ibmq-provider==0.3.3->qiskit) (1.1.0)\n",
      "Requirement already satisfied: websockets<8,>=7 in /opt/anaconda3/lib/python3.7/site-packages (from qiskit-ibmq-provider==0.3.3->qiskit) (7.0)\n",
      "Requirement already satisfied: setuptools>=40.1.0 in /opt/anaconda3/lib/python3.7/site-packages (from qiskit-ignis==0.2.0->qiskit) (41.4.0)\n",
      "Requirement already satisfied: dlx in /opt/anaconda3/lib/python3.7/site-packages (from qiskit-aqua==0.6.1->qiskit) (1.0.4)\n",
      "Requirement already satisfied: fastdtw in /opt/anaconda3/lib/python3.7/site-packages (from qiskit-aqua==0.6.1->qiskit) (0.3.4)\n",
      "Requirement already satisfied: pyscf; sys_platform != \"win32\" in /opt/anaconda3/lib/python3.7/site-packages (from qiskit-aqua==0.6.1->qiskit) (1.6.4)\n",
      "Requirement already satisfied: docplex in /opt/anaconda3/lib/python3.7/site-packages (from qiskit-aqua==0.6.1->qiskit) (2.10.155)\n",
      "Requirement already satisfied: h5py in /opt/anaconda3/lib/python3.7/site-packages (from qiskit-aqua==0.6.1->qiskit) (2.9.0)\n",
      "Requirement already satisfied: quandl in /opt/anaconda3/lib/python3.7/site-packages (from qiskit-aqua==0.6.1->qiskit) (3.4.8)\n",
      "Requirement already satisfied: scikit-learn>=0.20.0 in /opt/anaconda3/lib/python3.7/site-packages (from qiskit-aqua==0.6.1->qiskit) (0.21.3)\n",
      "Requirement already satisfied: cvxopt in /opt/anaconda3/lib/python3.7/site-packages (from qiskit-aqua==0.6.1->qiskit) (1.2.3)\n",
      "Requirement already satisfied: decorator>=4.3.0 in /opt/anaconda3/lib/python3.7/site-packages (from networkx>=2.2->qiskit-terra==0.10.0->qiskit) (4.4.0)\n",
      "Requirement already satisfied: attrs>=17.4.0 in /opt/anaconda3/lib/python3.7/site-packages (from jsonschema>=2.6->qiskit-terra==0.10.0->qiskit) (19.2.0)\n",
      "Requirement already satisfied: six>=1.11.0 in /opt/anaconda3/lib/python3.7/site-packages (from jsonschema>=2.6->qiskit-terra==0.10.0->qiskit) (1.12.0)\n",
      "Requirement already satisfied: pyrsistent>=0.14.0 in /opt/anaconda3/lib/python3.7/site-packages (from jsonschema>=2.6->qiskit-terra==0.10.0->qiskit) (0.15.4)\n",
      "Requirement already satisfied: mpmath>=0.19 in /opt/anaconda3/lib/python3.7/site-packages (from sympy>=1.3->qiskit-terra==0.10.0->qiskit) (1.1.0)\n",
      "Requirement already satisfied: urllib3!=1.25.0,!=1.25.1,<1.26,>=1.21.1 in /opt/anaconda3/lib/python3.7/site-packages (from requests>=2.19->qiskit-ibmq-provider==0.3.3->qiskit) (1.24.2)\n",
      "Requirement already satisfied: certifi>=2017.4.17 in /opt/anaconda3/lib/python3.7/site-packages (from requests>=2.19->qiskit-ibmq-provider==0.3.3->qiskit) (2019.9.11)\n",
      "Requirement already satisfied: idna<2.9,>=2.5 in /opt/anaconda3/lib/python3.7/site-packages (from requests>=2.19->qiskit-ibmq-provider==0.3.3->qiskit) (2.8)\n",
      "Requirement already satisfied: chardet<3.1.0,>=3.0.2 in /opt/anaconda3/lib/python3.7/site-packages (from requests>=2.19->qiskit-ibmq-provider==0.3.3->qiskit) (3.0.4)\n",
      "Requirement already satisfied: ntlm-auth>=1.0.2 in /opt/anaconda3/lib/python3.7/site-packages (from requests-ntlm>=1.1.0->qiskit-ibmq-provider==0.3.3->qiskit) (1.4.0)\n",
      "Requirement already satisfied: cryptography>=1.3 in /opt/anaconda3/lib/python3.7/site-packages (from requests-ntlm>=1.1.0->qiskit-ibmq-provider==0.3.3->qiskit) (2.7)\n",
      "Requirement already satisfied: docloud>=1.0.369 in /opt/anaconda3/lib/python3.7/site-packages (from docplex->qiskit-aqua==0.6.1->qiskit) (1.0.375)\n",
      "Requirement already satisfied: pyOpenSSL in /opt/anaconda3/lib/python3.7/site-packages (from quandl->qiskit-aqua==0.6.1->qiskit) (19.0.0)\n",
      "Requirement already satisfied: python-dateutil in /opt/anaconda3/lib/python3.7/site-packages (from quandl->qiskit-aqua==0.6.1->qiskit) (2.8.0)\n",
      "Requirement already satisfied: inflection>=0.3.1 in /opt/anaconda3/lib/python3.7/site-packages (from quandl->qiskit-aqua==0.6.1->qiskit) (0.3.1)\n",
      "Requirement already satisfied: pandas>=0.14 in /opt/anaconda3/lib/python3.7/site-packages (from quandl->qiskit-aqua==0.6.1->qiskit) (0.25.1)\n",
      "Requirement already satisfied: more-itertools<=5.0.0 in /opt/anaconda3/lib/python3.7/site-packages (from quandl->qiskit-aqua==0.6.1->qiskit) (5.0.0)\n",
      "Requirement already satisfied: ndg-httpsclient in /opt/anaconda3/lib/python3.7/site-packages (from quandl->qiskit-aqua==0.6.1->qiskit) (0.5.1)\n",
      "Requirement already satisfied: pyasn1 in /opt/anaconda3/lib/python3.7/site-packages (from quandl->qiskit-aqua==0.6.1->qiskit) (0.4.7)\n",
      "Requirement already satisfied: joblib>=0.11 in /opt/anaconda3/lib/python3.7/site-packages (from scikit-learn>=0.20.0->qiskit-aqua==0.6.1->qiskit) (0.13.2)\n",
      "Requirement already satisfied: cffi!=1.11.3,>=1.8 in /opt/anaconda3/lib/python3.7/site-packages (from cryptography>=1.3->requests-ntlm>=1.1.0->qiskit-ibmq-provider==0.3.3->qiskit) (1.12.3)\n",
      "Requirement already satisfied: asn1crypto>=0.21.0 in /opt/anaconda3/lib/python3.7/site-packages (from cryptography>=1.3->requests-ntlm>=1.1.0->qiskit-ibmq-provider==0.3.3->qiskit) (1.0.1)\n",
      "Requirement already satisfied: pytz>=2017.2 in /opt/anaconda3/lib/python3.7/site-packages (from pandas>=0.14->quandl->qiskit-aqua==0.6.1->qiskit) (2019.3)\n",
      "Requirement already satisfied: pycparser in /opt/anaconda3/lib/python3.7/site-packages (from cffi!=1.11.3,>=1.8->cryptography>=1.3->requests-ntlm>=1.1.0->qiskit-ibmq-provider==0.3.3->qiskit) (2.19)\n"
     ]
    }
   ],
   "source": [
    "!pip install qiskit"
   ]
  },
  {
   "cell_type": "code",
   "execution_count": 5,
   "metadata": {},
   "outputs": [
    {
     "name": "stdout",
     "output_type": "stream",
     "text": [
      "['1', '0']\n"
     ]
    }
   ],
   "source": [
    "from qiskit import *\n",
    "def NOT(inp):\n",
    "\n",
    "    qc = QuantumCircuit(1, 1) # this is where the quantum program goes\n",
    "    \n",
    "    # Codificaremos 0 -> |0> y 1 -> |1>. Por tanto, si nos entra un cero, aplicamos una puerta X \n",
    "    # para girar el qubit inicial.\n",
    "    if inp==1:\n",
    "        qc.x(0)\n",
    "        \n",
    "    # En este caso, el problema es sencillo, ya que la puerto NOT es equivalente a la puerta cuantica x:\n",
    "    qc.x(0)\n",
    "    \n",
    "    # Medimos el estado del qubit\n",
    "    qc.measure(0, 0)\n",
    "    \n",
    "    # Y corremos el circuito con el simulador\n",
    "    backend = Aer.get_backend('qasm_simulator')\n",
    "    job = execute(qc,backend)\n",
    "    # Sacamos los valores de la ejecución del circuito\n",
    "    output = next(iter(job.result().get_counts()))\n",
    "    \n",
    "    return output\n",
    "\n",
    "print([NOT(0), NOT(1)])"
   ]
  },
  {
   "cell_type": "markdown",
   "metadata": {},
   "source": [
    "*Pista:* Podeís utilizar combinaciones de puertas y mediciones, al igual que *if*s clásicos. El único requisito es que el input pase por un circuito cuántico. "
   ]
  },
  {
   "cell_type": "code",
   "execution_count": null,
   "metadata": {
    "collapsed": true
   },
   "outputs": [],
   "source": [
    "# Solución\n",
    "from qiskit import *\n",
    "a = 1\n",
    "b = 0\n",
    "\n",
    "qc = QuantumCircuit(3,1)\n",
    "\n",
    "if (a==1) :\n",
    "    qc.x(0)\n",
    "if (b == 1) :\n",
    "    qc.x(1)\n",
    "\n",
    "qc.x(2)\n",
    "qc.ccx(0,1,2)\n",
    "backend = Aer.get_backend('qasm_simulator')\n",
    "job = execute(qc,backend)\n",
    "# Sacamos los valores de la ejecución del circuito\n",
    "output = next(iter(job.result().get_counts()))\n",
    "\n"
   ]
  },
  {
   "cell_type": "markdown",
   "metadata": {},
   "source": [
    "### Problema práctico 2 - Teleportación cuántica\n",
    "\n",
    "Uno de los algoritmos más sencillos pero con más utilidad es el de teleportación cuántica. Es la base de lo que llamamos ahora comunicación cuántica. Permite enviar un estado, digamos $|\\psi\\rangle = \\alpha|0\\rangle+\\beta|1\\rangle$ de un punto A a un punto B. Existe un teorema en la física cuántica llamado teorema de no clonación, por el cual es imposible generar una copia exacta de un estado cuántico sin destruirlo. Esto tiene que ver con la decoherencia, ya que si quiero medir el estado $|\\psi\\rangle$ para poder generar una copia, dicha medición destruye directamente el estado. Para obetener los valores exactos de $\\alpha$ y $\\beta$, necesitaría medir el estado miles de veces para que las probabilidades de medir cada uno de los estado $|0\\rangle$ y $|1\\rangle$ convergiera a $\\alpha$ y $\\beta$.\n",
    "\n",
    "Existe una manera de solucionar este problema, y es mediante el uso del entrelazamiento. Vamos a explicar el funcionamiento teórico del algoritmo y vuestra tarea sera la de recrear el algoritmo usando Qiskit.\n",
    "\n",
    "**El algoritmo:**\n",
    "El objetivo es mandar un qbit en el estado $|\\psi\\rangle$ desde el laboratorio de Alice hasta el de Bob\n",
    "- **Paso 1:** Alice y Bob creando un par de qbit entrelazados, $q_A$ y $q_B$ y cada uno se guarda uno de ellos. Con una puerta h y otra CNA\n",
    "- **Paso 2:** Alice aplica una puerta CNOT al qbit $q_A$, controlada por $|\\psi\\rangle$. Tenemos que aplicar cnot al primcipio\n",
    "- **Paso 3:** Alice aplica una puerta Hadamard a $|\\psi\\rangle$ y mide los dos qubits $q_A$ y $|\\psi\\rangle$.\n",
    "- **Paso 4:** Alice llama a Bob y le comunica el resultado de su medición. Dependiendo del resultado de la medición, Bob aplica una puerta y otra, de la manera siguiente:\n",
    "\n",
    "| $|\\psi\\rangle$ | $q_A$ | Puerta de Bob |\n",
    "|----|----|---------|\n",
    "| $0$ | $0$ | No hacer nada |\n",
    "| $0$ | $1$ | Aplicar la puerta $X$ |\n",
    "| $1$ | $0$ | Aplicar la puerta $Z$ |\n",
    "| $1$ | $1$ | Aplicar las puertas $ZX$|\n",
    "\n",
    "Y ya está! Con esto Bob ha transformado su qbit $q_B$ al estado $|\\psi\\rangle$!\n",
    "\n",
    "Para hacer nuestro caso un poco más educativo, vamos a crear un circuito mucho más grande del estrictamente necesario, con 5 qubits. Como hemos visto antes, solo necesitamos 3 para esta rutina. Iremos viendo para que nos sirven los otros dos. Nuestro objetivo es teletransportar $|\\psi\\rangle$, que tendremos en el qubit 0 circuito, al qubit de Bob, $q_B$, que en este caso será el qubit 2. El qubit 1 será el de Alice, $q_A$. Para crear $|\\psi\\rangle$, vamos a aplicar aleatoríamente una serie de puertas a $q_0$. Para guardarnos que estado hemos creado, vamos a aplicar esta puerta al qubit 3 también, de manera que $q_0$ y $q_3$ están en el mismo estado."
   ]
  },
  {
   "cell_type": "code",
   "execution_count": 5,
   "metadata": {},
   "outputs": [
    {
     "data": {
      "text/plain": [
       "<qiskit.circuit.instructionset.InstructionSet at 0x1a252ee990>"
      ]
     },
     "execution_count": 5,
     "metadata": {},
     "output_type": "execute_result"
    }
   ],
   "source": [
    "def secret_unitary(circuit, qubit):\n",
    "    for _ in range(4):\n",
    "        coin = np.random.rand()\n",
    "        if coin < 0.5:\n",
    "            circuit.h([q for q in qubit])\n",
    "        else: \n",
    "            circuit.x([q for q in qubit])\n",
    "            \n",
    "q = QuantumRegister(5) # Vamos a considerar 2 qubit extras, a parte de los \n",
    "                       # tres necesarios. Veremos mas tarde su utilidad.\n",
    "c = ClassicalRegister(1)\n",
    "qc = QuantumCircuit(q, c)\n",
    "\n",
    "secret_unitary(qc, [q[0], q[3]])\n",
    "qc.barrier()"
   ]
  },
  {
   "cell_type": "markdown",
   "metadata": {},
   "source": [
    "Ahora es vuestro turno! Crear el circuito en la siguiente celda. En nuestro caso, seguimos teniendo acceso al estado $|\\psi\\rangle$ y $q_A$, por lo que podemos sustituir las llamadas telefónicas por puertas controladas, teniendo en cuenta la tabla de más arriba."
   ]
  },
  {
   "cell_type": "code",
   "execution_count": 6,
   "metadata": {},
   "outputs": [
    {
     "ename": "TypeError",
     "evalue": "'QuantumRegister' object is not callable",
     "output_type": "error",
     "traceback": [
      "\u001b[0;31m---------------------------------------------------------------------------\u001b[0m",
      "\u001b[0;31mTypeError\u001b[0m                                 Traceback (most recent call last)",
      "\u001b[0;32m<ipython-input-6-93dbd7adc470>\u001b[0m in \u001b[0;36m<module>\u001b[0;34m\u001b[0m\n\u001b[1;32m      7\u001b[0m \u001b[0;34m\u001b[0m\u001b[0m\n\u001b[1;32m      8\u001b[0m \u001b[0;31m# Paso2\u001b[0m\u001b[0;34m\u001b[0m\u001b[0;34m\u001b[0m\u001b[0;34m\u001b[0m\u001b[0m\n\u001b[0;32m----> 9\u001b[0;31m \u001b[0mqc\u001b[0m\u001b[0;34m.\u001b[0m\u001b[0mcx\u001b[0m\u001b[0;34m(\u001b[0m\u001b[0mq\u001b[0m\u001b[0;34m(\u001b[0m\u001b[0;36m0\u001b[0m\u001b[0;34m)\u001b[0m\u001b[0;34m,\u001b[0m\u001b[0mq\u001b[0m\u001b[0;34m[\u001b[0m\u001b[0;36m1\u001b[0m\u001b[0;34m]\u001b[0m\u001b[0;34m)\u001b[0m\u001b[0;34m\u001b[0m\u001b[0;34m\u001b[0m\u001b[0m\n\u001b[0m\u001b[1;32m     10\u001b[0m \u001b[0mqc\u001b[0m\u001b[0;34m.\u001b[0m\u001b[0mh\u001b[0m\u001b[0;34m(\u001b[0m\u001b[0mq\u001b[0m\u001b[0;34m[\u001b[0m\u001b[0;36m0\u001b[0m\u001b[0;34m]\u001b[0m\u001b[0;34m)\u001b[0m\u001b[0;34m\u001b[0m\u001b[0;34m\u001b[0m\u001b[0m\n\u001b[1;32m     11\u001b[0m \u001b[0mqc\u001b[0m\u001b[0;34m.\u001b[0m\u001b[0mbarrier\u001b[0m\u001b[0;34m(\u001b[0m\u001b[0;34m)\u001b[0m\u001b[0;34m\u001b[0m\u001b[0;34m\u001b[0m\u001b[0m\n",
      "\u001b[0;31mTypeError\u001b[0m: 'QuantumRegister' object is not callable"
     ]
    }
   ],
   "source": [
    "# Solución\n",
    "\n",
    "# Pas1 - Entrelazamiento\n",
    "qc.h(q[1])\n",
    "qc.cx(q[1],q[2])\n",
    "qc.barrier()\n",
    "\n",
    "# Paso2 \n",
    "qc.cx(q(0),q[1])\n",
    "qc.h(q[0])\n",
    "qc.barrier()\n",
    "\n",
    "#paso3\n",
    "qc.cx(q[1],q[2])\n",
    "qc.cz(q[0],q[2])\n",
    "qc.barrier()\n",
    "\n",
    "qc.draw(output = 'mpl')\n",
    "\n"
   ]
  },
  {
   "cell_type": "markdown",
   "metadata": {},
   "source": [
    "Una vez habeis creado el circuito, vamos a chequear que el estado actual de $q_B$ es exactamente el de $|\\psi\\rangle$. Existe multiples manera de hacerlo, pero una que es especilamente interesante cuando estamos trabajando con qubits es hacer un [*swap test*](https://en.wikipedia.org/wiki/Swap_test). El swap test actua de la manera siguiente: consideramos dos estados iniciales $|\\psi\\rangle$ y $|\\phi\\rangle$. Consideramos además un qubit auxiliar inicializado en $|0\\rangle$. Si $|\\langle \\psi|\\phi\\rangle|^2=1$, es decir son el mismo estado, entonces la probabilidad de medir 0 en el ancilla qubit es 1. Si por el contrario no son iguales, la probabilidad de medir 0 es diferente de 1. El swap test tiene la siguiente forma:\n",
    "\n",
    "<img src = '../figs/swap_test.png'>\n",
    "\n",
    "\n",
    "Utilizando el swap test, comparar el estado de $|\\phi\\rangle$ que estaba en posesión de Alice con el estado actual de Bob, $q_B$. Como hemos aplicado una serie de puertas sobre $q_0$, este ya no esta en estado $|\\phi\\rangle$. Por suerte, $q_3$ si que lo está, ya que no lo hemos tocado desde el inicio. Utilizar como ancilla del swap test $q_4$. Ha funcionado la teleportación?"
   ]
  },
  {
   "cell_type": "code",
   "execution_count": null,
   "metadata": {
    "collapsed": true,
    "scrolled": true
   },
   "outputs": [],
   "source": [
    "# Solución"
   ]
  },
  {
   "cell_type": "markdown",
   "metadata": {},
   "source": [
    "### Problema práctico 3 - Transformada de Fourier cuántica\n",
    "\n",
    "En este problema trataremos de implementar las transformada de Fourier cuántica que hemos estudiado de manera teórica. Para ello, primero tenemos que definir la puerta $CROT$. Como ya hemos visto, se trata de una puerta que rota un qubit dependiendo de el valor del qubit de control. En `qiskit` encontramos la puerta de rotación $CU_1$, definida como\n",
    "$$\n",
    "CU_1(\\theta) = \n",
    "\\begin{pmatrix}\n",
    "1 & 0 & 0 & 0 \\\\\n",
    "0 & 1 & 0 & 0 \\\\\n",
    "0 & 0 & 1 & 0 \\\\\n",
    "0 & 0 & 0 & e^{i\\theta} \\\\\n",
    "\\end{pmatrix}\n",
    "$$\n",
    "\n",
    "En el caso de la puerta $CROT_k$, el ángulo de rotación es $\\theta = 2\\pi/2^k = \\pi/2^{k−1}$. Un ejemplo de implementación de $CROT_2$ sería:\n",
    "\n",
    "`quantum_circuit.cu(math.pi/2.0, quantum_register[0], quantum_register[1])`"
   ]
  },
  {
   "cell_type": "markdown",
   "metadata": {},
   "source": [
    "Vuestra tare consiste en lo siguiente:\n",
    "- Crear un circuito de 3 qubits.\n",
    "- Aplicar la función input_state al circuito. Esta función crea un estado para el cual la QFT da como estado resultando el estado $1$ (en el caso de tres qubits, $|001\\rangle$).\n",
    "- Implementar la QFT a partir del circuito que habeís escrito.\n",
    "- Utilizando el `qasm_simulator`, medir el resultado del circuito:"
   ]
  },
  {
   "cell_type": "code",
   "execution_count": null,
   "metadata": {
    "collapsed": true
   },
   "outputs": [],
   "source": [
    "def input_state(circ, q, n):\n",
    "    \"\"\"n-qubit input state for QFT that produces output 1.\"\"\"\n",
    "    for j in range(n):\n",
    "        circ.h(q[j])\n",
    "        circ.u1(-math.pi/float(2**(j)), q[j])"
   ]
  },
  {
   "cell_type": "code",
   "execution_count": null,
   "metadata": {
    "collapsed": true,
    "scrolled": true
   },
   "outputs": [],
   "source": [
    "# Solución"
   ]
  },
  {
   "cell_type": "markdown",
   "metadata": {},
   "source": [
    "### Problema práctico 4 - Estimación de fase cuántica\n",
    "\n",
    "El objetivo de este problema es extraer el valor $\\theta$ dado una operación unitaria $U$ y un estado $|\\psi\\rangle$ de manera que $U|\\psi\\rangle=e^{2\\pi i\\theta}|\\psi\\rangle$. Para ello debeís utilizar el algoritmo de estimación de fase. En este ejercicio vamos a considerar $U=Z$ y $|\\psi\\rangle=|1\\rangle$. Vamos a solucionar el problema con  $n=2$ qubits ancillas.\n",
    "- Paso 1: dibujar el circuito, identificando las diferentes puertas a implementar y cual es el output esperado del circuito.\n",
    "- Paso 2: calcular la forma de cada una de las puertas controladas a calcular.\n",
    "- Paso 3: Implementar el circuito y apartir de este sacar el valor de $\\theta$. Utilizar tanto el `qasm_simulator` como los chips cuánticos.\n",
    "    - Primero, definir el circuito con 2 ancillas y 1 qubit extra, sobre el cual tendreís que aplicar una puerta $X$ para transformarlo al estado $|1\\rangle$. Definir el circuito de tal manera que el qubit $|\\psi\\rangle$ este en la última posición.\n",
    "    - Aplicar el algoritmo. Para la QFT inversa, podeís utilizar la siguiente función `qft_inversa` que encontrareís más abajo.\n",
    "    - Medir el estado de las ancillas, pasar el valor del qubit de binario a decimal y sacar el valor de $\\theta$."
   ]
  },
  {
   "cell_type": "code",
   "execution_count": null,
   "metadata": {
    "collapsed": true
   },
   "outputs": [],
   "source": [
    "def qft_inversa(circuito, q, n):\n",
    "    '''Inputs:\n",
    "        - circuito: QuantumCircuit\n",
    "        - q: QuantumRegister\n",
    "        - n: Numero de ancillas '''\n",
    "    for j in range(n):\n",
    "        k = (n-1) - j\n",
    "        for m in range(k):\n",
    "            circuito.cu1(-math.pi/float(2**(k-m)), q[k], q[m])\n",
    "        circuito.h(q[k])"
   ]
  },
  {
   "cell_type": "code",
   "execution_count": null,
   "metadata": {
    "collapsed": true
   },
   "outputs": [],
   "source": [
    "# Solución"
   ]
  }
 ],
 "metadata": {
  "kernelspec": {
   "display_name": "Python 3",
   "language": "python",
   "name": "python3"
  },
  "language_info": {
   "codemirror_mode": {
    "name": "ipython",
    "version": 3
   },
   "file_extension": ".py",
   "mimetype": "text/x-python",
   "name": "python",
   "nbconvert_exporter": "python",
   "pygments_lexer": "ipython3",
   "version": "3.7.4"
  }
 },
 "nbformat": 4,
 "nbformat_minor": 2
}
