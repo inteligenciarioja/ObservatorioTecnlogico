{
 "cells": [
  {
   "cell_type": "markdown",
   "metadata": {},
   "source": [
    "# Programming Quantum Algorithms III: QAOA\n",
    "---\n",
    "## Introduction\n",
    "In the last block we have seen how to use quantum annealers to do optimization, but what if we don't have a quantum annealer, and instead we have a ''normal'' (i.e., gate-based) quantum computer? Can we solve optimization problems in that setting? This is the question that people were trying to answer when they developed the [Quantum Approximate Optimization Algorithm](https://arxiv.org/abs/1411.4028), or QAOA. Initially designed to solve optimization problems, QAOA is a hybrid classical-quantum algorithm that fits nicely inside larger optimization/learning programs, so one of its potential uses is [quantum-assisted machine learning](https://arxiv.org/abs/1712.05771). Also, as we will see, they are naturally suited for correcting coherent systematic errors in real computers.\n",
    "\n",
    "In this notebook, we will review the theory behind it, and see an example on how to use it to solve the MAXCUT problem.\n",
    "\n",
    "## The algorithm\n",
    "As mentioned before, QAOA was inspired by trying to solve optimization problems (as quantum annealing does) in a gate-based model of computing. The basic idea is the following. Quantum annealing works by moving adiabatically from the ground state of a known Hamiltonian, $H_m$ (known as the *mixer* Hamiltonian, to the ground state of a *cost* Hamiltonian, $H_c$, that encodes a ''loss function''. This is, it relies in the fact that, if we can find a Hamiltonian $H_c$ such that its ground state, $|\\psi_c\\rangle$, encodes the solution to the problem, then this ground state can be found via the operation\n",
    "\n",
    "$$\n",
    "|\\psi_c\\rangle=\\exp\\left\\{-\\mathrm{i}\\int_0^1\\text{d}t\\left[(1-t)H_m+t H_c\\right]\\right\\}|\\psi_m\\rangle\n",
    "$$\n",
    "\n",
    "where $|\\psi_m\\rangle$ is the ground state of $H_m$. Typically, this mixer Hamiltonian is chosen to be $H_m=\\sum_{i=1}^n X_i$, since its ground state is $|\\psi_m\\rangle=|+\\rangle^{\\otimes n}=\\frac{1}{\\sqrt{2^n}}\\sum_{x=0}^{2^n-1}|x\\rangle$, the uniform superposition of all possible bit strings of length $n$.\n",
    "\n",
    "This, as we saw in Block II, is what D-Wave does for solving optimization problems. Essentially, what QAOA does is truncating the adiabatic evolution by applying an alternating sequence of evolutions, each according to one of the Hamiltonians $H_m$ or $H_c$. This is, it substitutes the above expression by\n",
    "\n",
    "$$\n",
    "|\\psi_c\\rangle\\approx e^{-\\mathrm{i}\\beta_p H_m}e^{-\\mathrm{i}\\gamma_p H_c}\\dots e^{-\\mathrm{i}\\beta_2 H_m}e^{-\\mathrm{i}\\gamma_2 H_c}e^{-\\mathrm{i}\\beta_1 H_m}e^{-\\mathrm{i}\\gamma_1 H_c}|\\psi_m\\rangle\n",
    "$$\n",
    "\n",
    "where the parameters $\\{\\beta_1\\dots\\beta_p,\\gamma_1\\dots\\gamma_p\\}$ represent the times for which each evolution is applied. The truncation is performed mainly because the whole evolution operator $\\exp\\left\\{-\\mathrm{i}\\int_0^1\\text{d}t\\left[(1-t)H_m+t H_c\\right]\\right\\}$ is in general very difficult to calculate. Most of the times it is impossible even to give a closed form for it. And after that, it comes the problem of translating that quantity (which, we shall not forget, is a matrix) into a quantum circuit, which is also very difficult in general. In contrast, typically the Hamiltonians $H_m$ and $H_c$ are much simpler, and their evolutions can be decomposed in gates much more easily.\n",
    "\n",
    "Then, it is just a matter of fixing a value of $p$ (the larger, the better will be the approximation of the final state to $|\\psi_c\\rangle$), fixing a value of the parameters $\\{\\beta_1\\dots\\beta_p,\\gamma_1\\dots\\gamma_p\\}$ (again, the smaller, the better the final result), and running the corresponding quantum circuit. But can we do a bit better than this?\n",
    "\n",
    "This is the part where the classical-quantum hybrid scheme appears. We can view what we have as a big black box with some classical parameters that one can tune and that outputs a quantum state. Something that can be envisioned is, with the resulting quantum state, calculating some classical quantity of interest $C(|\\psi\\rangle)$ (like an energy, for instance), and then use *classical optimization techniques* to find the best parameters $\\{\\beta_1\\dots\\beta_p,\\gamma_1\\dots\\gamma_p\\}$ that optimize the quantity $C$. This is, for example, the task that classical machine learning does. The full process would look like this\n",
    "\n",
    "<table>\n",
    "    <tr>\n",
    "        <td> <div style=\"width:image width px; font-size:80%; text-align:center;\"><img src=\"figs/hybrid.png\" alt=\" \" width=\"width\" height=\"height\" style=\"padding-bottom:0.5em;\" />Hybrid scheme: a parameterized quantum circuit is run on a quantum computer, while the optimization of the parameters is done classically on a classical computer</div></td>\n",
    "        <td> <div style=\"width:image width px; font-size:80%; text-align:center;\"><img src=\"../figs/qaoa.png\" alt=\" \" width=\"70%\" style=\"padding-bottom:0.5em;\" />In-depth view of the QAOA algorithm</div> </td>\n",
    "    </tr>\n",
    "</table>\n",
    "\n",
    "This scenario is beneficial in two ways:\n",
    "\n",
    "- First, the fields of optimization and machine learning in the classical scenario are much more well known than their quantum counterparts, and now **we can harness all that knowledge to work with quantum circuits**.\n",
    "- Second, and more importantly for the near term, this algorithm does not care about which operations are being done in the circuit, only about the parameters and how they affect the final cost function. Therefore, it may **automatically correct** systematic errors in the chips, something that the theoretically-derived optimal values for the parameters can not do. Imagine that, at some point in the circuit, we need to apply a gate to a qubit, but the relay that applies this gate has a small delay, so when you ask to apply it for a time $t$, the chip actually applies it for a time $t-\\epsilon$. By using the classical optimization loop, the algorithm will learn that instead of asking to implement the gate for time $t$, it will have to ask to implement it for a time $t'=t+\\epsilon$ in order to achieve a better optimum.\n",
    "\n",
    "But that is enough talking. Let's now program it to solve the MAXCUT problem in a 3-vertex graph.\n",
    "\n",
    "## The MAXCUT problem\n",
    "Imagine you have a graph with a lot of vertices and edges connecting such vertices, and you want, by passing at most once by each edge, to draw a line that cuts as many edges as possible. This is the [MAXCUT problem](https://en.wikipedia.org/wiki/Maximum_cut). An example can be seen below\n",
    "\n",
    "<img src=\"figs/maxcut.svg\" width=\"30%\" height=\"30%\">\n",
    "\n",
    "This problem can be formulated as an optimization in the following way. In the image above, you can see that nodes in one side of the cut are white, and the nodes in the other side are black. Thus, we can assign a variable that takes the values $\\sigma_i=\\{white,black\\}=\\{-1,1\\}$ to each vertex, and then ask that, for each edge $ij$, the product $\\sigma_i\\sigma_j$ is negative. This is, we want to minimize the cost function\n",
    "\n",
    "$$ C=\\frac{1}{2}\\sum_{i,j\\in\\mathcal{V}}\\sigma_i\\sigma_j $$\n",
    "\n",
    "(The factor of $1/2$ is for a matter of convenience). To solve this in a quantum circuit, we substitute each classical spin $\\sigma_i$ by a quantum two-level system, so the cost function is transformed to the cost Hamiltonian\n",
    "\n",
    "$$ H_c=\\frac{1}{2}\\sum_{i,j\\in\\mathcal{V}}Z_i\\otimes Z_j $$\n",
    "\n",
    "## Programming the algorithm in IBM's [Qiskit](http://www.qiskit.org)\n",
    "First, as usual, we import the necessary libraries. We will also load all the necessary backends that we will use."
   ]
  },
  {
   "cell_type": "code",
   "execution_count": 1,
   "metadata": {
    "collapsed": true
   },
   "outputs": [],
   "source": [
    "import matplotlib.pyplot as plt    # General framework for plots\n",
    "%matplotlib inline\n",
    "import numpy as np                 # For numerical calculations\n",
    "import seaborn as sns              # For nice plots\n",
    "sns.set()\n",
    "\n",
    "from qiskit import QuantumCircuit, ClassicalRegister, QuantumRegister     # For creating circuits\n",
    "from qiskit import BasicAer, IBMQ, execute                                # For simulating and running circuits\n",
    "from numpy import pi as π                                                 # Our friend\n",
    "\n",
    "QX_TOKEN = 'YOUR_TOKEN'\n",
    "if QX_TOKEN != 'YOUR_TOKEN':\n",
    "    IBMQ.enable_account(QX_TOKEN)\n",
    "    real_chip = IBMQ.get_backend('ibmqx4')\n",
    "\n",
    "experiment_simulator   = BasicAer.get_backend('qasm_simulator')\n",
    "wavefunction_simulator = BasicAer.get_backend('statevector_simulator')"
   ]
  },
  {
   "cell_type": "markdown",
   "metadata": {
    "deletable": false,
    "editable": false
   },
   "source": [
    "We will focus in a small, three-node graph with two edges, depicted below\n",
    "\n",
    "<img src=\"figs/simple_maxcut.png\" width=\"25%\">\n",
    "\n",
    "Since we have three nodes, we just need three qubits, and three bits to store the results of the measurements."
   ]
  },
  {
   "cell_type": "code",
   "execution_count": 2,
   "metadata": {
    "collapsed": true
   },
   "outputs": [],
   "source": [
    "q = QuantumRegister(3)\n",
    "c = ClassicalRegister(3)"
   ]
  },
  {
   "cell_type": "markdown",
   "metadata": {
    "deletable": false,
    "editable": false
   },
   "source": [
    "The mixer Hamiltonian is the sum of $X$ operators on every qubit, i.e.,\n",
    "\n",
    "$$ H_m=X_1+X_2+X_3 $$\n",
    "\n",
    "For the cost Hamiltonian, we need to add a $Z_i\\otimes Z_j$ term for each edge in the graph, which gives us the Hamiltonian\n",
    "\n",
    "$$ H_c=Z_1\\otimes Z_2 + Z_2\\otimes Z_3 $$\n",
    "\n",
    "As can be seen from the figure, the cut passing through the maximum amount of edges is represented by the variable assignment $010$ or $101$. We can try to obtain such a solution using a quantum circuit on three qubits, which an optimal quantum algorithm should prepare in either the state $|010\\rangle$, the state $|101\\rangle$, or a superposition of these.\n",
    "\n",
    "In order to build such a circuit, we need to define the operators $e^{-\\mathrm{i}\\beta H_m}$ and $e^{-\\mathrm{i}\\gamma H_c}$. For these simple forms explicit formulas exist.\n",
    "\n",
    "For the case of $H_m$ we have that\n",
    "\n",
    "$$ e^{-\\mathrm{i}\\beta X}=\\begin{pmatrix}\\cos\\beta & -\\mathrm{i}\\sin\\beta \\\\ \\mathrm{i}\\sin\\beta & \\cos\\beta\\end{pmatrix} $$\n",
    "\n",
    "This gate can be achieved by concatenating an $H$ gate, a $U_1(2\\beta)$ gate, and another $H$ gate. The $U_1(\\lambda)$ gate inserts a phase of $e^{\\mathrm{i}\\lambda}$ in the $|1\\rangle$ state, and it has the form\n",
    "\n",
    "$$ U_1(\\lambda)= \\begin{pmatrix}1 & 0 \\\\ 0 & e^{\\mathrm{i}\\lambda}\\end{pmatrix} $$\n",
    "\n",
    "The definition of this and more general one-qubit unitary gates can be found in the [quantum experience documentation](https://quantumexperience.ng.bluemix.net/proxy/tutorial/full-user-guide/002-The_Weird_and_Wonderful_World_of_the_Qubit/004-advanced_qubit_gates.html)"
   ]
  },
  {
   "cell_type": "code",
   "execution_count": 3,
   "metadata": {
    "collapsed": true
   },
   "outputs": [],
   "source": [
    "def evolution_under_mixer(β, qubit_register):\n",
    "    mixer_evo = QuantumCircuit(qubit_register)\n",
    "    for qubit in qubit_register:\n",
    "        mixer_evo.h(qubit)\n",
    "        mixer_evo.u1(2*β, qubit)\n",
    "        mixer_evo.h(qubit)\n",
    "    return mixer_evo"
   ]
  },
  {
   "cell_type": "markdown",
   "metadata": {
    "deletable": false,
    "editable": false
   },
   "source": [
    "In the same way, for $H_c$ we have that\n",
    "\n",
    "$$ e^{-\\mathrm{i}\\frac{\\gamma}{2} Z\\otimes Z}=\\begin{pmatrix}1 & 0 & 0 & 0 \\\\\n",
    "                                                             0 & e^{-\\mathrm{i}\\gamma/2} & 0 & 0 \\\\\n",
    "                                                             0 & 0 & e^{-\\mathrm{i}\\gamma/2} & 0 \\\\\n",
    "                                                             0 & 0 & 0 & 1\\end{pmatrix} $$\n",
    "\n",
    "This can be constructed by applying two $CNOT$ gates between two qubits, intercalated by a $U_1(\\gamma)$ gate on the target."
   ]
  },
  {
   "cell_type": "code",
   "execution_count": 4,
   "metadata": {
    "collapsed": true
   },
   "outputs": [],
   "source": [
    "def evolution_under_cost(γ, qubit_register, qubit0, qubit1):\n",
    "    cost_evo = QuantumCircuit(qubit_register)\n",
    "    cost_evo.cx(qubit_register[qubit0], qubit_register[qubit1])\n",
    "    cost_evo.u1(π / 2 - γ, qubit_register[qubit1])\n",
    "    cost_evo.cx(qubit_register[qubit0], qubit_register[qubit1])\n",
    "    return cost_evo"
   ]
  },
  {
   "cell_type": "markdown",
   "metadata": {
    "deletable": false,
    "editable": false
   },
   "source": [
    "In some cases, finding the evolution operators may be hard. For this reason, the developers of ``qiskit`` have automatized the process via the ``evolve()`` function for [``Operator``](https://qiskit.org/documentation/autodoc/qiskit_aqua.operator.html) objects in [qiskit-aqua](http://www.github.com/qiskit/qiskit-aqua).\n",
    "\n",
    "We also define some functions to build a complete QAOA circuit, and to add the measurements of the qubits"
   ]
  },
  {
   "cell_type": "code",
   "execution_count": 5,
   "metadata": {
    "collapsed": true
   },
   "outputs": [],
   "source": [
    "def create_qaoa(betas, gammas, quantum_register, classical_register):\n",
    "    qaoa = QuantumCircuit(quantum_register, classical_register)\n",
    "    qaoa.h(quantum_register)\n",
    "    for β, γ in zip(betas, gammas):\n",
    "        qaoa += evolution_under_cost(γ, quantum_register, 0, 1)\n",
    "        qaoa += evolution_under_cost(γ, quantum_register, 1, 2)\n",
    "        qaoa += evolution_under_mixer(β, quantum_register)\n",
    "    return qaoa\n",
    "\n",
    "def add_measurements(circuit):\n",
    "    quantum_register   = circuit.qregs[0]\n",
    "    classical_register = circuit.cregs[0]\n",
    "    for qubit, bit in zip(quantum_register, classical_register):\n",
    "        circuit.measure(qubit, bit)"
   ]
  },
  {
   "cell_type": "markdown",
   "metadata": {
    "deletable": false,
    "editable": false
   },
   "source": [
    "Finally, let us define some auxiliary functions to help understanding the results"
   ]
  },
  {
   "cell_type": "code",
   "execution_count": 6,
   "metadata": {
    "collapsed": true
   },
   "outputs": [],
   "source": [
    "def get_wavefunction(amplitudes):\n",
    "    n = int(np.log2(len(amplitudes)))\n",
    "    return '+'.join([str(round(coeff, 4)) + '|{0:0{1}b}>'.format(i, n)\n",
    "                       for i, coeff in enumerate(amplitudes) if abs(coeff) > 1e-6])\n",
    "\n",
    "def get_probabilities(amplitudes):\n",
    "    n = int(np.log2(len(amplitudes)))\n",
    "    return {'{0:0{1}b}'.format(i, n): np.round(abs(coeff)**2 if abs(coeff)**2 > 1e-6 else 0., 4)\n",
    "                                        for i, coeff in enumerate(amplitudes)}\n",
    "\n",
    "def get_probabilities_from_counts(counts_dict):\n",
    "    n_shots = sum(counts_dict.values())\n",
    "    return {key: counts / n_shots for key, counts in counts_dict.items()}\n",
    "\n",
    "def plot_probabilities(probabilities, color):\n",
    "    plot = sns.barplot(list(probabilities.keys()), list(probabilities.values()), color=color)\n",
    "    for item in plot.get_xticklabels():\n",
    "        item.set_rotation(45)"
   ]
  },
  {
   "cell_type": "markdown",
   "metadata": {
    "deletable": false,
    "editable": false
   },
   "source": [
    "It is time to build and run a circuit. Let us set up some good parameters, that have been obtained by other means."
   ]
  },
  {
   "cell_type": "code",
   "execution_count": 7,
   "metadata": {
    "collapsed": true,
    "deletable": false,
    "editable": false
   },
   "outputs": [],
   "source": [
    "betas  = [-0.39264061]\n",
    "gammas = [0.52355478]"
   ]
  },
  {
   "cell_type": "code",
   "execution_count": 8,
   "metadata": {},
   "outputs": [
    {
     "data": {
      "image/png": "[encoded data removed]",
      "text/plain": [
       "<matplotlib.figure.Figure at 0x7fdbe2f54470>"
      ]
     },
     "execution_count": 8,
     "metadata": {},
     "output_type": "execute_result"
    }
   ],
   "source": [
    "simple_qaoa = create_qaoa(betas, gammas, q, c)\n",
    "simple_qaoa.draw(output='mpl')"
   ]
  },
  {
   "cell_type": "markdown",
   "metadata": {
    "deletable": false,
    "editable": false
   },
   "source": [
    "Before anything, let us get some results from simulations. The theoretical probabilities for each outcome can be read off from the final wavefunction"
   ]
  },
  {
   "cell_type": "code",
   "execution_count": 9,
   "metadata": {},
   "outputs": [
    {
     "name": "stdout",
     "output_type": "stream",
     "text": [
      "The wavefunction is\n",
      "\n",
      "(-0.097+0.0086j)|000>+(0.2091+0.1855j)|001>+(0.209+0.539j)|010>+(0.2091+0.1855j)|011>+(0.2091+0.1855j)|100>+(0.209+0.539j)|101>+(0.2091+0.1855j)|110>+(-0.097+0.0086j)|111>\n"
     ]
    },
    {
     "data": {
      "image/png": "[encoded data removed]",
      "text/plain": [
       "<matplotlib.figure.Figure at 0x7fdbdf1da550>"
      ]
     },
     "metadata": {},
     "output_type": "display_data"
    }
   ],
   "source": [
    "wavefunction = execute(simple_qaoa, backend=wavefunction_simulator)\n",
    "amplitudes   = wavefunction.result().get_statevector()\n",
    "print('The wavefunction is\\n')\n",
    "print(get_wavefunction(amplitudes))\n",
    "\n",
    "probs_simulation = get_probabilities(amplitudes)\n",
    "plot_probabilities(probs_simulation, 'cyan')"
   ]
  },
  {
   "cell_type": "markdown",
   "metadata": {
    "deletable": false,
    "editable": false
   },
   "source": [
    "These are theoretical values, but we already see that most of the times we run the algorithm, we will be given the result $010$ or $101$.\n",
    "\n",
    "We can also simulate what an actual experiment would look like. For this, we need to add measurements at the end of the circuit."
   ]
  },
  {
   "cell_type": "code",
   "execution_count": 10,
   "metadata": {
    "collapsed": true
   },
   "outputs": [],
   "source": [
    "add_measurements(simple_qaoa)"
   ]
  },
  {
   "cell_type": "code",
   "execution_count": 11,
   "metadata": {},
   "outputs": [
    {
     "data": {
      "image/png": "[encoded data removed]",
      "text/plain": [
       "<matplotlib.figure.Figure at 0x7fdc1ff957f0>"
      ]
     },
     "metadata": {},
     "output_type": "display_data"
    }
   ],
   "source": [
    "n_shots = 1024\n",
    "simulation_result = execute(simple_qaoa, backend=experiment_simulator, shots=n_shots)\n",
    "probs_experiment  = get_probabilities_from_counts(simulation_result.result().get_counts())\n",
    "plot_probabilities(probs_experiment, 'magenta')"
   ]
  },
  {
   "cell_type": "markdown",
   "metadata": {
    "deletable": false,
    "editable": false
   },
   "source": [
    "This is actually pretty close to the expected value. But now, what happens if we run the same circuit in a real chip?"
   ]
  },
  {
   "cell_type": "code",
   "execution_count": null,
   "metadata": {},
   "outputs": [
    {
     "data": {
      "image/png": "[encoded data removed]",
      "text/plain": [
       "<Figure size 432x288 with 1 Axes>"
      ]
     },
     "metadata": {},
     "output_type": "display_data"
    }
   ],
   "source": [
    "real_result = execute(simple_qaoa, backend=real_chip, shots=n_shots)\n",
    "probs_real  = get_probabilities_from_counts(real_result.result().get_counts())\n",
    "plot_probabilities(probs_real, 'red')"
   ]
  },
  {
   "cell_type": "markdown",
   "metadata": {
    "deletable": false,
    "editable": false
   },
   "source": [
    "Well, now the plot does look a bit different. The reason for this is that the chip is subject to noises and experimental imprecisions that affect the quality of the computations. And this is where QAOA shows its power. Because we essentially have a quantum circuit described by *classical parameters*, we can optimize any quantity with respect to these parameters. In this case, the almighty powerful method of grid search tells us that the parameters"
   ]
  },
  {
   "cell_type": "code",
   "execution_count": null,
   "metadata": {
    "collapsed": true,
    "deletable": false,
    "editable": false
   },
   "outputs": [],
   "source": [
    "betas_exp, gammas_exp = [-0.43264061], [0.32355478]"
   ]
  },
  {
   "cell_type": "markdown",
   "metadata": {
    "deletable": false,
    "editable": false
   },
   "source": [
    "will probably give better results when running on the real chip. Let's check it"
   ]
  },
  {
   "cell_type": "code",
   "execution_count": null,
   "metadata": {
    "scrolled": false
   },
   "outputs": [
    {
     "name": "stdout",
     "output_type": "stream",
     "text": [
      "---------------Simulation---------------\n"
     ]
    },
    {
     "data": {
      "image/png": "[encoded data removed]",
      "text/plain": [
       "<Figure size 432x288 with 1 Axes>"
      ]
     },
     "metadata": {
      "needs_background": "light"
     },
     "output_type": "display_data"
    },
    {
     "name": "stdout",
     "output_type": "stream",
     "text": [
      "---------------Experiment---------------\n"
     ]
    },
    {
     "data": {
      "image/png": "[encoded data removed]",
      "text/plain": [
       "<Figure size 432x288 with 1 Axes>"
      ]
     },
     "metadata": {
      "needs_background": "light"
     },
     "output_type": "display_data"
    }
   ],
   "source": [
    "optimized_qaoa = create_qaoa(betas_exp, gammas_exp, q, c)\n",
    "\n",
    "print('---------------Simulation---------------')\n",
    "opt_wavefunction     = execute(optimized_qaoa, backend=wavefunction_simulator)\n",
    "opt_amplitudes       = opt_wavefunction.result().get_statevector()\n",
    "opt_probs_simulation = get_probabilities(opt_amplitudes)\n",
    "plot_probabilities(opt_probs_simulation, 'cyan')\n",
    "plt.show()\n",
    "\n",
    "print('---------------Experiment---------------')\n",
    "add_measurements(optimized_qaoa)\n",
    "opt_real_result = execute(optimized_qaoa, backend=real_chip, shots=n_shots)\n",
    "opt_probs_real  = get_probabilities_from_counts(opt_real_result.result().get_counts())\n",
    "plot_probabilities(opt_probs_real, 'magenta')\n",
    "plt.show()"
   ]
  },
  {
   "cell_type": "markdown",
   "metadata": {
    "deletable": false,
    "editable": false
   },
   "source": [
    "Indeed, the results obtained from the chip are better than before. This is because, as it happens with classical machine learning algorithms, systematic errors are being taken for granted and automatically corrected by the optimization procedure.\n",
    "\n",
    "## How would a complete pipeline look\n",
    "\n",
    "To finish, let us see an example of how a complete program (quantum circuit + classical optimization) would look like. We will need some optimization package. In this case, we choose to use [BOBYQA](https://en.wikipedia.org/wiki/BOBYQA), which is a derivative-free optimizer to solve constrained optimization problems, and has [a nice implementation in Python](https://numericalalgorithmsgroup.github.io/pybobyqa/build/html/index.html)."
   ]
  },
  {
   "cell_type": "code",
   "execution_count": null,
   "metadata": {
    "collapsed": true,
    "deletable": false,
    "editable": false,
    "run_control": {
     "frozen": true
    }
   },
   "outputs": [],
   "source": [
    "import pybobyqa"
   ]
  },
  {
   "cell_type": "markdown",
   "metadata": {
    "deletable": false,
    "editable": false,
    "run_control": {
     "frozen": true
    }
   },
   "source": [
    "We also need to define a couple of new functions, like the loss function that we will optimize. This will be the expectation value of $H_c$"
   ]
  },
  {
   "cell_type": "code",
   "execution_count": null,
   "metadata": {
    "collapsed": true,
    "deletable": false,
    "editable": false,
    "run_control": {
     "frozen": true
    }
   },
   "outputs": [],
   "source": [
    "def complete_process(params, quantum_register, classical_register, backend):\n",
    "    betas  = params[:len(params) // 2]\n",
    "    gammas = params[len(params) // 2:]\n",
    "    qaoa   = create_qaoa(betas, gammas, quantum_register, classical_register)\n",
    "    result = execute(qaoa, backend=backend, shots=8192)\n",
    "    probs  = get_probabilities(result.result().get_statevector())\n",
    "    loss   = cost_function(probs)\n",
    "    print(loss)\n",
    "    return loss"
   ]
  },
  {
   "cell_type": "code",
   "execution_count": null,
   "metadata": {
    "collapsed": true,
    "deletable": false,
    "editable": false,
    "run_control": {
     "frozen": true
    }
   },
   "outputs": [],
   "source": [
    "def cost_function(probabilities):\n",
    "    avg_energy = 0\n",
    "    for result, probability in probabilities.items():\n",
    "        spins = [2 * int(bit) - 1 for bit in result]\n",
    "        energy = (spins[0] * spins[1] + spins[1] * spins[2]) * probability\n",
    "        avg_energy += energy\n",
    "    return avg_energy\n",
    "\n",
    "def complete_process(params, quantum_register, classical_register, backend):\n",
    "    betas  = params[:len(params) // 2]\n",
    "    gammas = params[len(params) // 2:]\n",
    "    qaoa   = create_qaoa(betas, gammas, quantum_register, classical_register)\n",
    "    add_measurements(qaoa)\n",
    "    result = execute(qaoa, backend=backend, shots=8192)\n",
    "    probs  = get_probabilities_from_counts(result.result().get_counts())\n",
    "    loss   = cost_function(probs)\n",
    "    print(loss)\n",
    "    return loss"
   ]
  },
  {
   "cell_type": "markdown",
   "metadata": {
    "deletable": false,
    "editable": false,
    "run_control": {
     "frozen": true
    }
   },
   "source": [
    "And we are ready to run our hybrid classical-quantum algorithm."
   ]
  },
  {
   "cell_type": "code",
   "execution_count": null,
   "metadata": {
    "deletable": false,
    "editable": false,
    "run_control": {
     "frozen": true
    },
    "scrolled": true
   },
   "outputs": [
    {
     "name": "stderr",
     "output_type": "stream",
     "text": [
      "C:\\Users\\apozas\\AppData\\Local\\Continuum\\anaconda3\\lib\\site-packages\\pybobyqa\\solver.py:749: RuntimeWarning: x0 too close to lower bound, adjusting\n",
      "  warnings.warn(\"x0 too close to lower bound, adjusting\", RuntimeWarning)\n"
     ]
    },
    {
     "name": "stdout",
     "output_type": "stream",
     "text": [
      "-0.53076171875\n",
      "-0.93603515625\n",
      "-0.98583984375\n",
      "1.379150390625\n",
      "-0.2236328125\n",
      "-0.572998046875\n",
      "0.3798828125\n",
      "-0.126220703125\n",
      "0.072265625\n",
      "-1.0107421875\n",
      "-0.9638671875\n",
      "-0.108154296875\n",
      "-1.171142578125\n",
      "-0.250732421875\n",
      "0.484619140625\n",
      "-0.5771484375\n",
      "0.931640625\n",
      "-0.693359375\n",
      "-1.10400390625\n",
      "-0.91357421875\n",
      "1.061279296875\n",
      "0.32763671875\n",
      "-1.46875\n",
      "-0.95751953125\n",
      "0.37939453125\n",
      "-0.7568359375\n",
      "-1.105224609375\n",
      "0.005126953125\n",
      "-1.022216796875\n",
      "-1.046630859375\n",
      "-0.772216796875\n",
      "-1.17822265625\n",
      "-1.060546875\n",
      "-1.314453125\n",
      "-1.57275390625\n",
      "-1.090087890625\n",
      "-0.995849609375\n",
      "-1.021728515625\n",
      "-1.432861328125\n",
      "-1.300048828125\n",
      "-1.529052734375\n",
      "-1.51171875\n",
      "-1.314453125\n",
      "-1.449951171875\n",
      "-1.42919921875\n",
      "-1.32373046875\n",
      "-1.41796875\n",
      "-1.4306640625\n",
      "-1.3818359375\n",
      "-1.5546875\n",
      "-1.404296875\n",
      "-1.530517578125\n",
      "-1.6533203125\n",
      "-1.67236328125\n",
      "-1.68896484375\n",
      "-1.72265625\n",
      "-1.434326171875\n",
      "-1.3798828125\n",
      "-1.567138671875\n",
      "-1.019287109375\n",
      "-1.74658203125\n",
      "-0.66455078125\n",
      "-0.78076171875\n",
      "-0.7998046875\n",
      "-1.400146484375\n",
      "-0.974853515625\n",
      "-0.9169921875\n",
      "-1.8388671875\n",
      "-1.712158203125\n",
      "-1.751708984375\n",
      "-1.749267578125\n",
      "-1.955322265625\n",
      "-1.922607421875\n",
      "-1.516845703125\n",
      "-1.760498046875\n",
      "-1.7451171875\n",
      "-1.9873046875\n",
      "-1.9169921875\n",
      "-1.9169921875\n",
      "-1.846923828125\n",
      "-1.822998046875\n",
      "-1.973876953125\n",
      "-1.987548828125\n",
      "-1.96923828125\n",
      "-1.878662109375\n",
      "-1.947265625\n",
      "-1.42626953125\n",
      "-0.6181640625\n",
      "-0.274169921875\n",
      "-1.5771484375\n",
      "-0.65576171875\n",
      "-1.489501953125\n",
      "-1.55517578125\n",
      "-1.9716796875\n",
      "-1.6728515625\n",
      "-0.850830078125\n",
      "0.2353515625\n",
      "1.763916015625\n",
      "-0.436767578125\n",
      "-0.35888671875\n",
      "1.033203125\n",
      "0.790283203125\n",
      "-0.3681640625\n",
      "1.743408203125\n",
      "-0.99951171875\n",
      "-0.269287109375\n",
      "1.103271484375\n",
      "-0.807373046875\n",
      "-1.5458984375\n",
      "-0.181640625\n",
      "-0.65185546875\n",
      "-0.38818359375\n",
      "-0.569091796875\n",
      "-1.09326171875\n",
      "-0.567138671875\n",
      "-1.25830078125\n",
      "-0.69970703125\n",
      "-1.44189453125\n",
      "-1.707763671875\n",
      "-1.814208984375\n",
      "-1.441650390625\n",
      "-1.41845703125\n",
      "-1.466796875\n",
      "-0.848876953125\n",
      "-1.5498046875\n",
      "0.896240234375\n",
      "-0.87451171875\n",
      "-1.16455078125\n",
      "-1.914794921875\n",
      "-1.426513671875\n",
      "-0.909912109375\n",
      "-1.478515625\n",
      "-1.70751953125\n",
      "-1.48681640625\n",
      "-1.636474609375\n",
      "-1.448486328125\n",
      "-1.829345703125\n",
      "-1.966796875\n",
      "-1.86865234375\n",
      "-1.5009765625\n",
      "-1.775634765625\n",
      "-1.905029296875\n",
      "-1.87109375\n",
      "-1.626220703125\n",
      "-1.97216796875\n",
      "-1.830810546875\n",
      "-1.9736328125\n",
      "-1.954345703125\n",
      "-1.974609375\n",
      "-1.944580078125\n",
      "-1.970947265625\n",
      "-1.96728515625\n",
      "-1.99609375\n",
      "-1.677490234375\n",
      "-1.83349609375\n",
      "-1.764892578125\n",
      "-1.419921875\n",
      "-1.859375\n",
      "-1.980224609375\n",
      "-1.946533203125\n",
      "-1.974365234375\n",
      "-1.989501953125\n",
      "-1.993408203125\n",
      "-1.989990234375\n",
      "-1.99658203125\n",
      "-1.97607421875\n",
      "-1.93115234375\n",
      "-1.9140625\n",
      "-1.9267578125\n",
      "-1.979736328125\n",
      "-1.98974609375\n",
      "-1.991943359375\n",
      "-1.992919921875\n",
      "-1.96826171875\n",
      "-1.99609375\n",
      "-1.9873046875\n",
      "-1.96435546875\n",
      "-1.99365234375\n",
      "-1.990966796875\n",
      "-1.9833984375\n",
      "-1.996826171875\n",
      "-1.99609375\n",
      "-1.97314453125\n",
      "-1.990966796875\n",
      "-1.999755859375\n",
      "-1.986572265625\n",
      "-0.58203125\n",
      "0.063720703125\n",
      "1.0380859375\n",
      "-1.987548828125\n",
      "-1.989013671875\n",
      "-1.83935546875\n",
      "-1.873291015625\n",
      "-1.99462890625\n",
      "-1.86572265625\n",
      "-1.985107421875\n",
      "-1.98046875\n",
      "-1.983642578125\n",
      "-1.99951171875\n",
      "-1.9833984375\n",
      "-1.9794921875\n",
      "-1.9921875\n",
      "-1.971923828125\n",
      "-1.9228515625\n",
      "-1.957275390625\n",
      "-1.97607421875\n",
      "-1.976318359375\n",
      "-1.989501953125\n",
      "-1.965087890625\n",
      "-1.991455078125\n",
      "-1.99755859375\n",
      "-1.9990234375\n",
      "-1.99951171875\n",
      "-1.99951171875\n",
      "-1.99951171875\n",
      "-2.0\n",
      "-1.999755859375\n",
      "-1.99951171875\n",
      "-2.0\n",
      "-1.99267578125\n",
      "-1.9951171875\n",
      "-1.992431640625\n",
      "-1.998046875\n",
      "-1.99853515625\n",
      "-1.996337890625\n",
      "-1.99658203125\n",
      "-1.99853515625\n",
      "-1.994873046875\n",
      "-1.9990234375\n",
      "-1.999755859375\n",
      "-2.0\n",
      "-1.996826171875\n",
      "-1.997314453125\n",
      "-1.99951171875\n",
      "-1.996826171875\n",
      "-1.998291015625\n",
      "-2.0\n",
      "-2.0\n",
      "-1.999755859375\n",
      "-1.99951171875\n",
      "-1.9990234375\n",
      "-2.0\n",
      "-1.99951171875\n",
      "-2.0\n",
      "-1.999755859375\n",
      "-1.999267578125\n",
      "-1.99951171875\n",
      "-1.056640625\n",
      "-0.595458984375\n",
      "-0.136962890625\n",
      "-1.478515625\n",
      "-0.473388671875\n",
      "-0.671142578125\n",
      "-1.332763671875\n",
      "-1.479248046875\n",
      "-0.726318359375\n",
      "-0.156494140625\n",
      "-1.914306640625\n",
      "-1.472412109375\n",
      "-1.716552734375\n",
      "-1.458251953125\n",
      "-1.652099609375\n",
      "-1.8203125\n",
      "-1.61865234375\n",
      "-1.864990234375\n",
      "-1.86328125\n",
      "-1.655517578125\n",
      "-1.8798828125\n",
      "-1.854736328125\n",
      "-1.9580078125\n",
      "-1.895263671875\n",
      "-1.855712890625\n",
      "-1.87060546875\n",
      "-1.552734375\n",
      "-1.8134765625\n",
      "-1.871826171875\n",
      "-1.8505859375\n",
      "-1.95947265625\n",
      "-1.9833984375\n",
      "-1.95556640625\n",
      "-1.9345703125\n",
      "-1.998779296875\n",
      "-1.978759765625\n",
      "-1.981689453125\n",
      "-1.920654296875\n",
      "-1.9990234375\n",
      "-1.999267578125\n",
      "-2.0\n",
      "-1.999755859375\n"
     ]
    },
    {
     "name": "stderr",
     "output_type": "stream",
     "text": [
      "C:\\Users\\apozas\\AppData\\Local\\Continuum\\anaconda3\\lib\\site-packages\\pybobyqa\\solver.py:510: RuntimeWarning: divide by zero encountered in log\n",
      "  np.log(restart_auto_detect_chg_grad))\n",
      "C:\\Users\\apozas\\AppData\\Local\\Continuum\\anaconda3\\lib\\site-packages\\numpy\\lib\\function_base.py:2320: RuntimeWarning: invalid value encountered in subtract\n",
      "  X -= avg[:, None]\n",
      "C:\\Users\\apozas\\AppData\\Local\\Continuum\\anaconda3\\lib\\site-packages\\scipy\\stats\\_distn_infrastructure.py:879: RuntimeWarning: invalid value encountered in greater\n",
      "  return (self.a < x) & (x < self.b)\n",
      "C:\\Users\\apozas\\AppData\\Local\\Continuum\\anaconda3\\lib\\site-packages\\scipy\\stats\\_distn_infrastructure.py:879: RuntimeWarning: invalid value encountered in less\n",
      "  return (self.a < x) & (x < self.b)\n",
      "C:\\Users\\apozas\\AppData\\Local\\Continuum\\anaconda3\\lib\\site-packages\\scipy\\stats\\_distn_infrastructure.py:1821: RuntimeWarning: invalid value encountered in less_equal\n",
      "  cond2 = cond0 & (x <= self.a)\n",
      "C:\\Users\\apozas\\AppData\\Local\\Continuum\\anaconda3\\lib\\site-packages\\pybobyqa\\solver.py:513: RuntimeWarning: divide by zero encountered in log\n",
      "  np.log(restart_auto_detect_chg_hess))\n"
     ]
    },
    {
     "name": "stdout",
     "output_type": "stream",
     "text": [
      "-1.99658203125\n",
      "-1.998779296875\n",
      "-1.99560546875\n",
      "-1.997314453125\n",
      "-2.0\n",
      "-1.99951171875\n",
      "-1.9990234375\n",
      "-1.991455078125\n",
      "-1.996826171875\n",
      "-1.991943359375\n",
      "-1.99951171875\n",
      "-1.990966796875\n",
      "-1.998291015625\n",
      "-1.999267578125\n",
      "-1.9921875\n",
      "-1.9970703125\n",
      "-1.9970703125\n",
      "-1.9990234375\n",
      "-1.99951171875\n",
      "-2.0\n",
      "-1.992431640625\n",
      "-1.9951171875\n",
      "-2.0\n",
      "-1.999267578125\n",
      "-1.998779296875\n",
      "-1.999755859375\n",
      "-1.99853515625\n",
      "-2.0\n",
      "-2.0\n",
      "-1.99951171875\n",
      "-1.99853515625\n",
      "-1.99853515625\n",
      "-1.998779296875\n",
      "-1.9990234375\n",
      "-1.999755859375\n",
      "-1.998779296875\n",
      "-1.99951171875\n",
      "-2.0\n",
      "-2.0\n",
      "-1.999755859375\n",
      "-1.99951171875\n",
      "-2.0\n",
      "-1.99951171875\n",
      "-2.0\n",
      "-1.99951171875\n",
      "-1.999755859375\n",
      "-2.0\n",
      "-2.0\n",
      "-2.0\n",
      "-2.0\n",
      "-2.0\n",
      "-2.0\n",
      "-2.0\n",
      "-1.9990234375\n",
      "-1.99951171875\n",
      "-1.999755859375\n",
      "-1.99951171875\n",
      "-1.999755859375\n",
      "-1.99951171875\n",
      "-2.0\n",
      "-1.9990234375\n",
      "-2.0\n",
      "-1.99951171875\n",
      "-0.910400390625\n",
      "-0.564208984375\n",
      "-0.4482421875\n",
      "-0.364990234375\n",
      "-0.20751953125\n",
      "-0.60498046875\n",
      "-0.181640625\n",
      "-1.43408203125\n",
      "-1.144775390625\n",
      "-1.670166015625\n",
      "-1.403076171875\n",
      "-1.35791015625\n",
      "-1.45849609375\n",
      "-1.827392578125\n",
      "-1.611083984375\n",
      "-1.667724609375\n",
      "-1.4765625\n",
      "-1.818115234375\n",
      "-1.83642578125\n",
      "-1.8173828125\n",
      "-1.7265625\n",
      "-1.69677734375\n",
      "-1.5869140625\n",
      "-1.84130859375\n",
      "-1.5556640625\n",
      "-1.893798828125\n",
      "-1.451171875\n",
      "-1.81787109375\n",
      "-1.90966796875\n",
      "-1.886962890625\n",
      "-1.9658203125\n",
      "-1.9033203125\n",
      "-1.971435546875\n",
      "-1.897705078125\n",
      "-1.938720703125\n",
      "-1.9912109375\n",
      "-1.990478515625\n",
      "-1.9931640625\n",
      "-1.972900390625\n",
      "-1.97119140625\n",
      "-1.86181640625\n",
      "-1.9765625\n",
      "-1.9951171875\n",
      "-1.998046875\n",
      "-1.997314453125\n",
      "-1.996826171875\n",
      "-1.9931640625\n",
      "-1.999267578125\n",
      "-1.998291015625\n",
      "-1.999755859375\n",
      "-1.99072265625\n",
      "-1.990478515625\n",
      "-1.9990234375\n",
      "-1.99609375\n",
      "-1.99951171875\n",
      "-1.994140625\n",
      "-1.991455078125\n",
      "-1.99609375\n",
      "-1.994384765625\n",
      "-1.997314453125\n",
      "-1.99853515625\n",
      "-1.999755859375\n",
      "-1.998291015625\n",
      "-1.998291015625\n",
      "-1.99853515625\n",
      "-1.9990234375\n",
      "-1.99951171875\n",
      "-1.997802734375\n",
      "-1.99951171875\n",
      "-2.0\n",
      "-1.998046875\n",
      "-1.99755859375\n",
      "-1.99853515625\n",
      "-1.99609375\n",
      "-1.9990234375\n",
      "-1.997802734375\n",
      "-1.99951171875\n",
      "-2.0\n",
      "-1.99951171875\n",
      "-2.0\n",
      "-2.0\n",
      "-2.0\n",
      "-1.99755859375\n",
      "-1.9990234375\n",
      "-1.99951171875\n",
      "-1.999267578125\n",
      "-1.9990234375\n",
      "-1.99853515625\n",
      "-1.9990234375\n",
      "-2.0\n",
      "-0.629638671875\n",
      "0.566650390625\n",
      "-0.79052734375\n",
      "-0.38134765625\n",
      "-0.74853515625\n",
      "-0.50244140625\n",
      "-1.48583984375\n",
      "-0.853271484375\n",
      "-1.527099609375\n",
      "-0.741943359375\n",
      "-1.591796875\n",
      "-1.720703125\n",
      "-1.4833984375\n",
      "-1.584716796875\n",
      "-1.613525390625\n",
      "-1.885009765625\n",
      "0.112548828125\n",
      "-0.564208984375\n",
      "-0.348388671875\n",
      "-1.42138671875\n",
      "0.033935546875\n",
      "-1.10986328125\n",
      "0.29248046875\n",
      "-1.498046875\n",
      "-0.784912109375\n",
      "-0.5234375\n",
      "-0.668701171875\n",
      "-1.263916015625\n",
      "-1.335693359375\n",
      "-1.180908203125\n",
      "0.005859375\n",
      "-0.95361328125\n",
      "-0.88427734375\n",
      "-0.885986328125\n",
      "-1.6591796875\n",
      "-1.4267578125\n",
      "-1.923095703125\n",
      "-1.85986328125\n",
      "-1.831787109375\n",
      "-1.9609375\n",
      "-1.87060546875\n",
      "-1.807373046875\n",
      "-1.9140625\n",
      "-1.907470703125\n",
      "-1.947021484375\n",
      "-1.989990234375\n",
      "-1.975341796875\n",
      "-1.965576171875\n",
      "-1.936279296875\n",
      "-1.924560546875\n",
      "-1.94775390625\n",
      "-1.90673828125\n",
      "-1.948486328125\n",
      "-1.98828125\n",
      "-1.96875\n",
      "-1.925048828125\n",
      "-1.987548828125\n",
      "-1.851318359375\n",
      "-1.997314453125\n",
      "-1.992919921875\n",
      "-1.99169921875\n",
      "-1.995849609375\n",
      "-1.995361328125\n",
      "-1.99951171875\n",
      "-1.99755859375\n",
      "-1.9736328125\n",
      "-1.99853515625\n",
      "-1.992919921875\n",
      "-1.98681640625\n",
      "-1.9990234375\n",
      "-1.994873046875\n",
      "-1.994384765625\n",
      "-1.99755859375\n",
      "-1.999755859375\n",
      "-1.998046875\n",
      "-1.99951171875\n",
      "-2.0\n",
      "-1.998779296875\n",
      "-1.999755859375\n",
      "-2.0\n",
      "-1.999267578125\n",
      "-1.996826171875\n",
      "-2.0\n",
      "-1.997314453125\n",
      "-1.998779296875\n",
      "-1.99951171875\n",
      "-1.99755859375\n",
      "-1.999267578125\n",
      "-1.998291015625\n",
      "-2.0\n",
      "-1.9990234375\n",
      "-1.998779296875\n",
      "-1.99853515625\n",
      "-1.99755859375\n",
      "-1.99951171875\n",
      "-2.0\n",
      "-1.99853515625\n",
      "-1.999267578125\n",
      "-1.998291015625\n",
      "-2.0\n",
      "-1.99853515625\n",
      "-1.99951171875\n",
      "-1.99853515625\n",
      "-1.045654296875\n",
      "-0.67041015625\n",
      "0.3251953125\n",
      "-1.618408203125\n",
      "-1.524169921875\n",
      "-0.230224609375\n",
      "-1.35302734375\n",
      "-1.380859375\n",
      "-1.796875\n",
      "-1.88671875\n",
      "-1.77880859375\n",
      "-1.43603515625\n",
      "-1.637451171875\n",
      "-1.9951171875\n",
      "0.01611328125\n",
      "-0.87841796875\n",
      "-1.8994140625\n",
      "-1.84521484375\n",
      "-1.99755859375\n",
      "-1.977294921875\n",
      "-1.99658203125\n",
      "-1.948974609375\n",
      "-1.999755859375\n",
      "-1.98046875\n",
      "-1.97802734375\n",
      "-1.954833984375\n",
      "-1.9970703125\n",
      "-1.98828125\n",
      "-1.995849609375\n",
      "-1.9970703125\n",
      "-1.999755859375\n",
      "-1.9921875\n",
      "-1.9892578125\n",
      "-1.993896484375\n",
      "-1.991455078125\n",
      "-1.998046875\n",
      "-2.0\n",
      "-1.999267578125\n",
      "-1.9931640625\n",
      "-1.9990234375\n",
      "-1.998779296875\n",
      "-1.999267578125\n",
      "-1.999755859375\n",
      "-1.99609375\n",
      "-1.9951171875\n",
      "-2.0\n",
      "-1.9990234375\n",
      "-2.0\n",
      "-1.999755859375\n",
      "-1.997314453125\n",
      "-1.9990234375\n",
      "-1.99755859375\n",
      "-0.5517578125\n",
      "-0.15576171875\n",
      "1.40380859375\n",
      "-1.302490234375\n",
      "-0.818603515625\n",
      "-1.75830078125\n",
      "-0.820068359375\n",
      "-0.890380859375\n",
      "-1.15185546875\n",
      "-0.993896484375\n",
      "-1.449462890625\n",
      "-1.642578125\n",
      "-1.138671875\n",
      "-1.56298828125\n",
      "-1.6806640625\n",
      "-1.65771484375\n",
      "-1.713623046875\n",
      "-1.532958984375\n",
      "-1.599853515625\n",
      "-1.67724609375\n",
      "-1.568603515625\n",
      "-1.711669921875\n",
      "-1.60986328125\n",
      "-1.829345703125\n",
      "-1.8955078125\n",
      "-1.898193359375\n",
      "-1.84228515625\n",
      "-1.751953125\n",
      "-1.979736328125\n",
      "-1.93359375\n",
      "-1.844482421875\n",
      "-1.982666015625\n",
      "-1.91455078125\n",
      "-1.968017578125\n",
      "-1.994384765625\n",
      "-1.835693359375\n",
      "-1.70654296875\n",
      "-1.446533203125\n",
      "-1.738525390625\n",
      "-1.885986328125\n",
      "-1.953857421875\n",
      "-1.295654296875\n",
      "-1.952392578125\n",
      "-1.8505859375\n",
      "-1.987548828125\n",
      "-1.993896484375\n",
      "-1.982177734375\n",
      "-1.98583984375\n",
      "-1.99951171875\n",
      "-1.994873046875\n",
      "-1.9921875\n",
      "-1.989013671875\n",
      "-1.952392578125\n",
      "-1.9423828125\n",
      "-1.965087890625\n",
      "-1.99658203125\n",
      "-1.996337890625\n",
      "-1.998046875\n",
      "-1.982177734375\n",
      "-1.98974609375\n",
      "-1.9716796875\n",
      "-1.997802734375\n",
      "-1.9912109375\n",
      "-2.0\n",
      "-2.0\n",
      "-1.999755859375\n",
      "-1.999267578125\n",
      "-1.99169921875\n",
      "-1.99462890625\n",
      "-1.99951171875\n",
      "-1.99853515625\n",
      "-1.99609375\n",
      "-1.9970703125\n",
      "-1.99951171875\n",
      "-1.998291015625\n",
      "-1.999755859375\n",
      "-2.0\n",
      "-2.0\n",
      "-2.0\n",
      "-2.0\n",
      "-1.999267578125\n",
      "-1.998779296875\n",
      "-1.999267578125\n",
      "-1.99951171875\n",
      "-1.999267578125\n",
      "-1.998046875\n",
      "-1.99951171875\n",
      "-1.999267578125\n",
      "-1.99951171875\n",
      "-1.99951171875\n",
      "-1.998779296875\n",
      "-2.0\n",
      "-1.999755859375\n",
      "-2.0\n",
      "-2.0\n",
      "-2.0\n",
      "-2.0\n",
      "-1.999267578125\n",
      "-2.0\n",
      "-1.999755859375\n",
      "-2.0\n",
      "-1.9990234375\n",
      "-2.0\n"
     ]
    }
   ],
   "source": [
    "p = 3\n",
    "x0 = 2 * π * np.random.rand(2 * p)\n",
    "lower_bounds = np.array([0] * 2 * p)\n",
    "upper_bounds = np.array([2 * π] * 2 * p)\n",
    "soln = pybobyqa.solve(complete_process, x0,\n",
    "                      args=(q,                      # quantum_register\n",
    "                            c,                      # classical_register\n",
    "                            experiment_simulator    # backend\n",
    "                            ),\n",
    "                      bounds=(lower_bounds, upper_bounds),\n",
    "                      objfun_has_noise=True)"
   ]
  },
  {
   "cell_type": "code",
   "execution_count": null,
   "metadata": {
    "deletable": false,
    "editable": false,
    "run_control": {
     "frozen": true
    },
    "scrolled": false
   },
   "outputs": [
    {
     "name": "stdout",
     "output_type": "stream",
     "text": [
      "****** Py-BOBYQA Results ******\n",
      "Solution xmin = [2.08601898 0.49748732 5.08724015 3.69593863 1.56259018 4.34817889]\n",
      "Objective value f(xmin) = -2\n",
      "Needed 700 objective evaluations (at 700 points)\n",
      "Did a total of 9 runs\n",
      "Approximate gradient = [-0.02956114  0.04115445  0.09461819  0.00446002  0.01423744  0.04955958]\n",
      "Approximate Hessian = [[  8.72582088  -8.42914938 -21.1702777   10.07846807   2.1314841\n",
      "    1.70447502]\n",
      " [ -8.42914938  27.23248364  11.59941501  -7.12394814   0.32933993\n",
      "   12.62022438]\n",
      " [-21.1702777   11.59941501  -7.10222826   2.47922335  -0.53613139\n",
      "   15.0539085 ]\n",
      " [ 10.07846807  -7.12394814   2.47922335   4.66210211   2.052759\n",
      "    4.5121153 ]\n",
      " [  2.1314841    0.32933993  -0.53613139   2.052759    11.08225097\n",
      "    0.99457813]\n",
      " [  1.70447502  12.62022438  15.0539085    4.5121153    0.99457813\n",
      "    4.18278885]]\n",
      "Exit flag = 1\n",
      "Warning (max evals): Objective has been called MAXFUN times\n",
      "******************************\n",
      "\n"
     ]
    }
   ],
   "source": [
    "print(soln)"
   ]
  },
  {
   "cell_type": "code",
   "execution_count": null,
   "metadata": {
    "deletable": false,
    "editable": false,
    "run_control": {
     "frozen": true
    }
   },
   "outputs": [
    {
     "data": {
      "image/png": "[encoded data removed]",
      "text/plain": [
       "<Figure size 432x288 with 1 Axes>"
      ]
     },
     "metadata": {
      "needs_background": "light"
     },
     "output_type": "display_data"
    }
   ],
   "source": [
    "large_qaoa = create_qaoa(soln.x[:p], soln.x[p:], q, c)\n",
    "large_wvfn = execute(large_qaoa, backend=wavefunction_simulator)\n",
    "large_amps = large_wvfn.result().get_statevector()\n",
    "large_probs = get_probabilities(large_amps)\n",
    "plot_probabilities(large_probs, 'olive')"
   ]
  },
  {
   "cell_type": "markdown",
   "metadata": {
    "deletable": false,
    "editable": false
   },
   "source": [
    "**Exercise:** Build a complete algorithm (i.e., define a new cost Hamiltonian and cost function) for solving MAXCUT in your preferred graph. For complex graphs, do not forget that you can build the circuit encoding the evolution easily with the function [``evolve()``](https://qiskit.org/documentation/autodoc/qiskit_aqua.operator.html)"
   ]
  },
  {
   "cell_type": "code",
   "execution_count": null,
   "metadata": {
    "collapsed": true
   },
   "outputs": [],
   "source": []
  }
 ],
 "metadata": {
  "kernelspec": {
   "display_name": "Python 3",
   "language": "python",
   "name": "python3"
  },
  "language_info": {
   "codemirror_mode": {
    "name": "ipython",
    "version": 3
   },
   "file_extension": ".py",
   "mimetype": "text/x-python",
   "name": "python",
   "nbconvert_exporter": "python",
   "pygments_lexer": "ipython3",
   "version": "3.7.3"
  }
 },
 "nbformat": 4,
 "nbformat_minor": 2
}
