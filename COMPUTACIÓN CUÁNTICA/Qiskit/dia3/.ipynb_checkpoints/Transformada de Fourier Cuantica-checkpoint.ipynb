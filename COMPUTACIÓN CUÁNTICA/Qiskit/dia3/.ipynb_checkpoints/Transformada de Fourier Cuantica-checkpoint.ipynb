{
 "cells": [
  {
   "cell_type": "code",
   "execution_count": 16,
   "metadata": {},
   "outputs": [],
   "source": [
    "from qiskit import *\n",
    "import numpy as np\n",
    "import math\n",
    "from qiskit.visualization import plot_histogram "
   ]
  },
  {
   "cell_type": "markdown",
   "metadata": {},
   "source": [
    "### Problema práctico  - Transformada de Fourier cuántica\n",
    "\n",
    "En este problema trataremos de implementar las transformada de Fourier cuántica que hemos estudiado de manera teórica. Para ello, primero tenemos que definir la puerta $CROT$. Como ya hemos visto, se trata de una puerta que rota un qubit dependiendo de el valor del qubit de control. En `qiskit` encontramos la puerta de rotación $CU_1$, definida como\n",
    "$$\n",
    "CU_1(\\theta) = \n",
    "\\begin{pmatrix}\n",
    "1 & 0 & 0 & 0 \\\\\n",
    "0 & 1 & 0 & 0 \\\\\n",
    "0 & 0 & 1 & 0 \\\\\n",
    "0 & 0 & 0 & e^{i\\theta} \\\\\n",
    "\\end{pmatrix}\n",
    "$$\n",
    "\n",
    "En el caso de la puerta $CROT_k$, el ángulo de rotación es $\\theta = 2\\pi/2^k = \\pi/2^{k−1}$. Un ejemplo de implementación de $CROT_2$ sería:\n",
    "\n",
    "`quantum_circuit.cu(math.pi/2.0, quantum_register[0], quantum_register[1])`"
   ]
  },
  {
   "cell_type": "markdown",
   "metadata": {},
   "source": [
    "Vuestra tare consiste en lo siguiente:\n",
    "- Crear un circuito de 3 qubits.\n",
    "- Aplicar la función input_state al circuito. Esta función crea un estado para el cual la QFT da como estado resultando el estado $1$ (en el caso de tres qubits, $|001\\rangle$).\n",
    "- Implementar la QFT a partir del circuito que habeís escrito.\n",
    "- Utilizando el `qasm_simulator`, medir el resultado del circuito:"
   ]
  },
  {
   "cell_type": "code",
   "execution_count": 2,
   "metadata": {},
   "outputs": [],
   "source": [
    "def input_state(circ, q, n):\n",
    "    \"\"\"n-qubit input state for QFT that produces output 1.\"\"\"\n",
    "    for j in range(n):\n",
    "        circ.h(q[j])\n",
    "        circ.u1(-math.pi/float(2**(j)), q[j])"
   ]
  },
  {
   "cell_type": "code",
   "execution_count": 17,
   "metadata": {
    "scrolled": true
   },
   "outputs": [
    {
     "data": {
      "image/png": "[encoded data removed]",
      "text/plain": [
       "<Figure size 504x360 with 1 Axes>"
      ]
     },
     "execution_count": 17,
     "metadata": {},
     "output_type": "execute_result"
    }
   ],
   "source": [
    "# Solución\n",
    "# Dibujamos el circuito\n",
    "q = QuantumRegister(3)\n",
    "c = ClassicalRegister(3)\n",
    "\n",
    "# Primera fase\n",
    "qubit = QuantumCircuit(q, c)\n",
    "input_state(qubit,q,3)\n",
    "\n",
    "qubit.h(q[0])\n",
    "qubit.cu1(math.pi/2.0, q[0], q[1])\n",
    "qubit.cu1(math.pi/4.0, q[0], q[2])\n",
    "\n",
    "# Segunda fase\n",
    "qubit.h(q[1])\n",
    "qubit.cu1(math.pi/2.0, q[1], q[2])\n",
    "\n",
    "# Tercera fase\n",
    "qubit.h(q[2])\n",
    "\n",
    "# Ahora utilizamos este circuito para hacer pasar hacer la transformada de Fourier de la entrada\n",
    "qubit.measure(0,0)\n",
    "qubit.measure(1,1)\n",
    "qubit.measure(2,2)\n",
    "\n",
    "qubit.draw(output='mpl')\n",
    "\n",
    "circuito = qubit\n",
    "simulator = Aer.get_backend('qasm_simulator')\n",
    "job = execute(circuito,simulator,shots = 100)\n",
    "result = job.result()\n",
    "counts = result.get_counts(circuito)\n",
    "plot_histogram(counts)\n"
   ]
  },
  {
   "cell_type": "code",
   "execution_count": null,
   "metadata": {},
   "outputs": [],
   "source": []
  },
  {
   "cell_type": "code",
   "execution_count": null,
   "metadata": {},
   "outputs": [],
   "source": []
  }
 ],
 "metadata": {
  "kernelspec": {
   "display_name": "Python 3",
   "language": "python",
   "name": "python3"
  },
  "language_info": {
   "codemirror_mode": {
    "name": "ipython",
    "version": 3
   },
   "file_extension": ".py",
   "mimetype": "text/x-python",
   "name": "python",
   "nbconvert_exporter": "python",
   "pygments_lexer": "ipython3",
   "version": "3.7.4"
  }
 },
 "nbformat": 4,
 "nbformat_minor": 2
}
